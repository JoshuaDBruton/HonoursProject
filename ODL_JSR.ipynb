{
 "cells": [
  {
   "cell_type": "markdown",
   "metadata": {},
   "source": [
    "# Easy to train different dictionaries on different hyperspectral images"
   ]
  },
  {
   "cell_type": "code",
   "execution_count": 1,
   "metadata": {},
   "outputs": [],
   "source": [
    "import scipy.io as spio\n",
    "import numpy as np\n",
    "import random\n",
    "import spams\n",
    "from scipy import sparse\n",
    "import matplotlib.pyplot as plt"
   ]
  },
  {
   "cell_type": "code",
   "execution_count": 2,
   "metadata": {},
   "outputs": [],
   "source": [
    "IP_data_mat=spio.loadmat(\"data/IP/Indian_pines_corrected.mat\")\n",
    "IP_gt_mat=spio.loadmat(\"data/IP/Indian_pines_gt.mat\")\n",
    "IP_image=IP_data_mat[\"indian_pines_corrected\"]\n",
    "IP_gt=IP_gt_mat['indian_pines_gt']\n",
    "\n",
    "salinas_mat = spio.loadmat('data/Salinas/salinas.mat')\n",
    "salinas_gt_mat = spio.loadmat('data/Salinas/salinas_gt.mat')\n",
    "salinas_image = salinas_mat['salinasA_corrected']\n",
    "salinas_gt = salinas_gt_mat['salinasA_gt']\n",
    "\n",
    "pavia_mat = spio.loadmat('data/PaviaU/PaviaU.mat')\n",
    "pavia_gt_mat = spio.loadmat('data/PaviaU/PaviaU_gt.mat')\n",
    "pavia_image = pavia_mat['paviaU']\n",
    "pavia_gt = pavia_gt_mat['paviaU_gt']"
   ]
  },
  {
   "cell_type": "code",
   "execution_count": 3,
   "metadata": {},
   "outputs": [],
   "source": [
    "def progress(curr_it, max_it):\n",
    "    if (curr_it) < max_it:\n",
    "        print('[{0}] {1}%'.format((curr_it+1), np.round(((curr_it+1)/max_it)*100,2)), end='\\r')\n",
    "    else:\n",
    "        print('[{0}] {1}%'.format((curr_it+1), np.round(((curr_it+1)/max_it)*100,2)), end='\\n')\n",
    "        \n",
    "# Dictionary update step from ODL, taken from J Mairal \"Online Dictionary Learning for Sparse Coding\"\n",
    "def updateDict(D, A, B):\n",
    "    D = D.copy()\n",
    "    DA  = D.dot(A)\n",
    "    count = 0\n",
    "    for j in range(D.shape[1]):\n",
    "        u_j = (B[:, j] - np.matmul(D, A[:, j]))/A[j, j] + D[:, j]\n",
    "        D[:, j] = u_j/max([1, np.linalg.norm(u_j)])\n",
    "    D = np.array(D, dtype=np.double)\n",
    "    return D\n",
    "\n",
    "class Joint_ODL:\n",
    "    'Provide hyperspectral image and perform dictionary learning on it in a joint fashion'\n",
    "    def drawRand(self):\n",
    "        rand = random.randint(0,self.tiled.shape[0]-1)\n",
    "        return self.tiled[:,rand]\n",
    "    def initD(self):\n",
    "        self.atoms = np.zeros((self.tiled.shape[0], self.num_coms))\n",
    "        for i in range(self.num_coms):\n",
    "            self.atoms[:,i]=self.drawRand()\n",
    "    def normaliseD(self):\n",
    "        D = self.atoms.copy()\n",
    "        self.atoms = np.asfortranarray(D / np.tile(np.sqrt((D*D).sum(axis=0)),(D.shape[0],1)),dtype=np.double)\n",
    "    def set_indices(self):\n",
    "        self.ind_groups=np.array(np.arange(0,self.tiled.shape[1],self.tileDim*self.tileDim), dtype=np.int32)\n",
    "    def tile(self):\n",
    "        hsi = self.image.copy()\n",
    "        ts = self.tileDim\n",
    "        tiles = np.array([hsi[i:i+ts, j:j+ts]for j in range(0, hsi.shape[1], ts) for i in range(0, hsi.shape[0], ts)])\n",
    "        tiles = np.reshape(tiles, (tiles.shape[0], ts*ts, tiles.shape[3]))\n",
    "        tiles = np.reshape(tiles, (tiles.shape[0]*tiles.shape[1], tiles.shape[2]))\n",
    "        return np.asfortranarray(tiles.T, dtype=np.double)\n",
    "    def __init__(self, k, image, tilesize=10):\n",
    "        if k <= image.shape[2]:\n",
    "            print('Select an adequate number of components for %s.' %str(image.shape))\n",
    "            return\n",
    "        else:\n",
    "            self.num_coms = k\n",
    "        self.image = image\n",
    "        self.tileDim = tilesize\n",
    "        self.tiled = self.tile()\n",
    "        self.ind_groups=None\n",
    "        self.set_indices()\n",
    "        self.atoms = None\n",
    "        self.coefs = None\n",
    "        self.initD()\n",
    "        self.normaliseD()\n",
    "    def get_coefs(self):\n",
    "        self.coefs = spams.somp(self.tiled[:,:], self.atoms, self.ind_groups, L=self.L, eps=self.eps, numThreads=self.numThreads)\n",
    "        return self.coefs\n",
    "    def fit(self, max_iter=1000, L=3, eps=0.1, numThreads=-1):\n",
    "        self.L = L\n",
    "        self.eps = eps\n",
    "        self.numThreads = numThreads\n",
    "        A=np.zeros((self.num_coms, self.num_coms))\n",
    "        B=np.zeros((self.tiled.shape[0], self.num_coms))\n",
    "        for i in range(max_iter):\n",
    "            progress(i, max_iter)\n",
    "            random_index = random.choice(self.ind_groups)\n",
    "            signals = self.tiled[:,random_index:(random_index+(self.tileDim**2))]\n",
    "            self.set_indices()\n",
    "            coefs = spams.somp(signals, self.atoms, self.ind_groups[:1], L=self.L, eps=self.eps, numThreads=self.numThreads)\n",
    "            for j in range(coefs.shape[1]):\n",
    "                signal = signals[:,j]\n",
    "                coef = sparse.coo_matrix(coefs[:,j])\n",
    "                alpha = coef.todense()\n",
    "                alpha = np.array(alpha, dtype=np.double)\n",
    "                alpha = alpha/np.sqrt(sum(alpha**2))\n",
    "                #alpha = coefs[:,j]\n",
    "                A += (np.dot(alpha.T, alpha)[0,0])\n",
    "                B += (signal[:, None]*alpha[:].T)\n",
    "                self.atoms = updateDict(self.atoms, A, B)\n",
    "                self.atoms = np.asfortranarray(self.atoms)"
   ]
  },
  {
   "cell_type": "code",
   "execution_count": 4,
   "metadata": {
    "scrolled": false
   },
   "outputs": [
    {
     "name": "stdout",
     "output_type": "stream",
     "text": [
      "[2] 20.0%\r"
     ]
    },
    {
     "ename": "ValueError",
     "evalue": "index pointer should start with 0",
     "output_type": "error",
     "traceback": [
      "\u001b[0;31m---------------------------------------------------------------------------\u001b[0m",
      "\u001b[0;31mValueError\u001b[0m                                Traceback (most recent call last)",
      "\u001b[0;32m<ipython-input-4-a555ced4c174>\u001b[0m in \u001b[0;36m<module>\u001b[0;34m\u001b[0m\n\u001b[1;32m      1\u001b[0m \u001b[0mpavia_jsrD\u001b[0m \u001b[0;34m=\u001b[0m \u001b[0mJoint_ODL\u001b[0m\u001b[0;34m(\u001b[0m\u001b[0;36m200\u001b[0m\u001b[0;34m,\u001b[0m \u001b[0mpavia_image\u001b[0m\u001b[0;34m,\u001b[0m \u001b[0mtilesize\u001b[0m\u001b[0;34m=\u001b[0m\u001b[0;36m10\u001b[0m\u001b[0;34m)\u001b[0m\u001b[0;34m\u001b[0m\u001b[0;34m\u001b[0m\u001b[0m\n\u001b[1;32m      2\u001b[0m \u001b[0mIP_jsrD\u001b[0m \u001b[0;34m=\u001b[0m \u001b[0mJoint_ODL\u001b[0m\u001b[0;34m(\u001b[0m\u001b[0;36m330\u001b[0m\u001b[0;34m,\u001b[0m \u001b[0mIP_image\u001b[0m\u001b[0;34m,\u001b[0m \u001b[0mtilesize\u001b[0m\u001b[0;34m=\u001b[0m\u001b[0;36m5\u001b[0m\u001b[0;34m)\u001b[0m\u001b[0;34m\u001b[0m\u001b[0;34m\u001b[0m\u001b[0m\n\u001b[0;32m----> 3\u001b[0;31m \u001b[0mpavia_jsrD\u001b[0m\u001b[0;34m.\u001b[0m\u001b[0mfit\u001b[0m\u001b[0;34m(\u001b[0m\u001b[0mmax_iter\u001b[0m\u001b[0;34m=\u001b[0m\u001b[0;36m10\u001b[0m\u001b[0;34m)\u001b[0m\u001b[0;34m\u001b[0m\u001b[0;34m\u001b[0m\u001b[0m\n\u001b[0m",
      "\u001b[0;32m<ipython-input-3-90ecd00605a2>\u001b[0m in \u001b[0;36mfit\u001b[0;34m(self, max_iter, L, eps, numThreads)\u001b[0m\n\u001b[1;32m     66\u001b[0m             \u001b[0msignals\u001b[0m \u001b[0;34m=\u001b[0m \u001b[0mself\u001b[0m\u001b[0;34m.\u001b[0m\u001b[0mtiled\u001b[0m\u001b[0;34m[\u001b[0m\u001b[0;34m:\u001b[0m\u001b[0;34m,\u001b[0m\u001b[0mrandom_index\u001b[0m\u001b[0;34m:\u001b[0m\u001b[0;34m(\u001b[0m\u001b[0mrandom_index\u001b[0m\u001b[0;34m+\u001b[0m\u001b[0;34m(\u001b[0m\u001b[0mself\u001b[0m\u001b[0;34m.\u001b[0m\u001b[0mtileDim\u001b[0m\u001b[0;34m**\u001b[0m\u001b[0;36m2\u001b[0m\u001b[0;34m)\u001b[0m\u001b[0;34m)\u001b[0m\u001b[0;34m]\u001b[0m\u001b[0;34m\u001b[0m\u001b[0;34m\u001b[0m\u001b[0m\n\u001b[1;32m     67\u001b[0m             \u001b[0mself\u001b[0m\u001b[0;34m.\u001b[0m\u001b[0mset_indices\u001b[0m\u001b[0;34m(\u001b[0m\u001b[0;34m)\u001b[0m\u001b[0;34m\u001b[0m\u001b[0;34m\u001b[0m\u001b[0m\n\u001b[0;32m---> 68\u001b[0;31m             \u001b[0mcoefs\u001b[0m \u001b[0;34m=\u001b[0m \u001b[0mspams\u001b[0m\u001b[0;34m.\u001b[0m\u001b[0msomp\u001b[0m\u001b[0;34m(\u001b[0m\u001b[0msignals\u001b[0m\u001b[0;34m,\u001b[0m \u001b[0mself\u001b[0m\u001b[0;34m.\u001b[0m\u001b[0matoms\u001b[0m\u001b[0;34m,\u001b[0m \u001b[0mself\u001b[0m\u001b[0;34m.\u001b[0m\u001b[0mind_groups\u001b[0m\u001b[0;34m[\u001b[0m\u001b[0;34m:\u001b[0m\u001b[0;36m1\u001b[0m\u001b[0;34m]\u001b[0m\u001b[0;34m,\u001b[0m \u001b[0mL\u001b[0m\u001b[0;34m=\u001b[0m\u001b[0mself\u001b[0m\u001b[0;34m.\u001b[0m\u001b[0mL\u001b[0m\u001b[0;34m,\u001b[0m \u001b[0meps\u001b[0m\u001b[0;34m=\u001b[0m\u001b[0mself\u001b[0m\u001b[0;34m.\u001b[0m\u001b[0meps\u001b[0m\u001b[0;34m,\u001b[0m \u001b[0mnumThreads\u001b[0m\u001b[0;34m=\u001b[0m\u001b[0mself\u001b[0m\u001b[0;34m.\u001b[0m\u001b[0mnumThreads\u001b[0m\u001b[0;34m)\u001b[0m\u001b[0;34m\u001b[0m\u001b[0;34m\u001b[0m\u001b[0m\n\u001b[0m\u001b[1;32m     69\u001b[0m             \u001b[0;32mfor\u001b[0m \u001b[0mj\u001b[0m \u001b[0;32min\u001b[0m \u001b[0mrange\u001b[0m\u001b[0;34m(\u001b[0m\u001b[0mcoefs\u001b[0m\u001b[0;34m.\u001b[0m\u001b[0mshape\u001b[0m\u001b[0;34m[\u001b[0m\u001b[0;36m1\u001b[0m\u001b[0;34m]\u001b[0m\u001b[0;34m)\u001b[0m\u001b[0;34m:\u001b[0m\u001b[0;34m\u001b[0m\u001b[0;34m\u001b[0m\u001b[0m\n\u001b[1;32m     70\u001b[0m                 \u001b[0msignal\u001b[0m \u001b[0;34m=\u001b[0m \u001b[0msignals\u001b[0m\u001b[0;34m[\u001b[0m\u001b[0;34m:\u001b[0m\u001b[0;34m,\u001b[0m\u001b[0mj\u001b[0m\u001b[0;34m]\u001b[0m\u001b[0;34m\u001b[0m\u001b[0;34m\u001b[0m\u001b[0m\n",
      "\u001b[0;32m~/anaconda3/lib/python3.7/site-packages/spams.py\u001b[0m in \u001b[0;36msomp\u001b[0;34m(X, D, list_groups, L, eps, numThreads)\u001b[0m\n\u001b[1;32m    886\u001b[0m         \u001b[0;32mraise\u001b[0m \u001b[0mValueError\u001b[0m\u001b[0;34m(\u001b[0m\u001b[0;34m\"somp : L must be defined\"\u001b[0m\u001b[0;34m)\u001b[0m\u001b[0;34m\u001b[0m\u001b[0;34m\u001b[0m\u001b[0m\n\u001b[1;32m    887\u001b[0m     \u001b[0;34m(\u001b[0m\u001b[0mindptr\u001b[0m\u001b[0;34m,\u001b[0m\u001b[0mindices\u001b[0m\u001b[0;34m,\u001b[0m\u001b[0mdata\u001b[0m\u001b[0;34m,\u001b[0m\u001b[0mshape\u001b[0m\u001b[0;34m)\u001b[0m \u001b[0;34m=\u001b[0m \u001b[0mspams_wrap\u001b[0m\u001b[0;34m.\u001b[0m\u001b[0msomp\u001b[0m\u001b[0;34m(\u001b[0m\u001b[0mX\u001b[0m\u001b[0;34m,\u001b[0m\u001b[0mD\u001b[0m\u001b[0;34m,\u001b[0m\u001b[0mlist_groups\u001b[0m\u001b[0;34m,\u001b[0m\u001b[0mL\u001b[0m\u001b[0;34m,\u001b[0m\u001b[0meps\u001b[0m\u001b[0;34m,\u001b[0m\u001b[0mnumThreads\u001b[0m\u001b[0;34m)\u001b[0m\u001b[0;34m\u001b[0m\u001b[0;34m\u001b[0m\u001b[0m\n\u001b[0;32m--> 888\u001b[0;31m     \u001b[0malpha\u001b[0m \u001b[0;34m=\u001b[0m \u001b[0mssp\u001b[0m\u001b[0;34m.\u001b[0m\u001b[0mcsc_matrix\u001b[0m\u001b[0;34m(\u001b[0m\u001b[0;34m(\u001b[0m\u001b[0mdata\u001b[0m\u001b[0;34m,\u001b[0m\u001b[0mindices\u001b[0m\u001b[0;34m,\u001b[0m\u001b[0mindptr\u001b[0m\u001b[0;34m)\u001b[0m\u001b[0;34m,\u001b[0m\u001b[0mshape\u001b[0m\u001b[0;34m)\u001b[0m\u001b[0;34m\u001b[0m\u001b[0;34m\u001b[0m\u001b[0m\n\u001b[0m\u001b[1;32m    889\u001b[0m     \u001b[0;32mreturn\u001b[0m \u001b[0malpha\u001b[0m\u001b[0;34m\u001b[0m\u001b[0;34m\u001b[0m\u001b[0m\n\u001b[1;32m    890\u001b[0m \u001b[0;34m\u001b[0m\u001b[0m\n",
      "\u001b[0;32m~/anaconda3/lib/python3.7/site-packages/scipy/sparse/compressed.py\u001b[0m in \u001b[0;36m__init__\u001b[0;34m(self, arg1, shape, dtype, copy)\u001b[0m\n\u001b[1;32m     96\u001b[0m             \u001b[0mself\u001b[0m\u001b[0;34m.\u001b[0m\u001b[0mdata\u001b[0m \u001b[0;34m=\u001b[0m \u001b[0mnp\u001b[0m\u001b[0;34m.\u001b[0m\u001b[0masarray\u001b[0m\u001b[0;34m(\u001b[0m\u001b[0mself\u001b[0m\u001b[0;34m.\u001b[0m\u001b[0mdata\u001b[0m\u001b[0;34m,\u001b[0m \u001b[0mdtype\u001b[0m\u001b[0;34m=\u001b[0m\u001b[0mdtype\u001b[0m\u001b[0;34m)\u001b[0m\u001b[0;34m\u001b[0m\u001b[0;34m\u001b[0m\u001b[0m\n\u001b[1;32m     97\u001b[0m \u001b[0;34m\u001b[0m\u001b[0m\n\u001b[0;32m---> 98\u001b[0;31m         \u001b[0mself\u001b[0m\u001b[0;34m.\u001b[0m\u001b[0mcheck_format\u001b[0m\u001b[0;34m(\u001b[0m\u001b[0mfull_check\u001b[0m\u001b[0;34m=\u001b[0m\u001b[0;32mFalse\u001b[0m\u001b[0;34m)\u001b[0m\u001b[0;34m\u001b[0m\u001b[0;34m\u001b[0m\u001b[0m\n\u001b[0m\u001b[1;32m     99\u001b[0m \u001b[0;34m\u001b[0m\u001b[0m\n\u001b[1;32m    100\u001b[0m     \u001b[0;32mdef\u001b[0m \u001b[0mgetnnz\u001b[0m\u001b[0;34m(\u001b[0m\u001b[0mself\u001b[0m\u001b[0;34m,\u001b[0m \u001b[0maxis\u001b[0m\u001b[0;34m=\u001b[0m\u001b[0;32mNone\u001b[0m\u001b[0;34m)\u001b[0m\u001b[0;34m:\u001b[0m\u001b[0;34m\u001b[0m\u001b[0;34m\u001b[0m\u001b[0m\n",
      "\u001b[0;32m~/anaconda3/lib/python3.7/site-packages/scipy/sparse/compressed.py\u001b[0m in \u001b[0;36mcheck_format\u001b[0;34m(self, full_check)\u001b[0m\n\u001b[1;32m    161\u001b[0m                                 (len(self.indptr), major_dim + 1))\n\u001b[1;32m    162\u001b[0m         \u001b[0;32mif\u001b[0m \u001b[0;34m(\u001b[0m\u001b[0mself\u001b[0m\u001b[0;34m.\u001b[0m\u001b[0mindptr\u001b[0m\u001b[0;34m[\u001b[0m\u001b[0;36m0\u001b[0m\u001b[0;34m]\u001b[0m \u001b[0;34m!=\u001b[0m \u001b[0;36m0\u001b[0m\u001b[0;34m)\u001b[0m\u001b[0;34m:\u001b[0m\u001b[0;34m\u001b[0m\u001b[0;34m\u001b[0m\u001b[0m\n\u001b[0;32m--> 163\u001b[0;31m             \u001b[0;32mraise\u001b[0m \u001b[0mValueError\u001b[0m\u001b[0;34m(\u001b[0m\u001b[0;34m\"index pointer should start with 0\"\u001b[0m\u001b[0;34m)\u001b[0m\u001b[0;34m\u001b[0m\u001b[0;34m\u001b[0m\u001b[0m\n\u001b[0m\u001b[1;32m    164\u001b[0m \u001b[0;34m\u001b[0m\u001b[0m\n\u001b[1;32m    165\u001b[0m         \u001b[0;31m# check index and data arrays\u001b[0m\u001b[0;34m\u001b[0m\u001b[0;34m\u001b[0m\u001b[0;34m\u001b[0m\u001b[0m\n",
      "\u001b[0;31mValueError\u001b[0m: index pointer should start with 0"
     ]
    }
   ],
   "source": [
    "pavia_jsrD = Joint_ODL(200, pavia_image, tilesize=10)\n",
    "IP_jsrD = Joint_ODL(330, IP_image, tilesize=5)\n",
    "pavia_jsrD.fit(max_iter=10)"
   ]
  },
  {
   "cell_type": "code",
   "execution_count": null,
   "metadata": {},
   "outputs": [],
   "source": [
    "pavia_dict = pavia_jsrD.atoms\n",
    "print(pavia_dict)"
   ]
  },
  {
   "cell_type": "code",
   "execution_count": null,
   "metadata": {},
   "outputs": [],
   "source": [
    "pavia_coefs = pavia_jsrD.get_coefs()\n",
    "pavia_coefs = sparse.coo_matrix(pavia_coefs)\n",
    "pavia_coefs = pavia_coefs.todense()"
   ]
  },
  {
   "cell_type": "code",
   "execution_count": null,
   "metadata": {},
   "outputs": [],
   "source": [
    "print(pavia_coefs.shape)\n",
    "pavia_pixels = np.reshape(pavia_image, (-1, 103)).T\n",
    "print(pavia_pixels.shape)"
   ]
  },
  {
   "cell_type": "code",
   "execution_count": null,
   "metadata": {},
   "outputs": [],
   "source": [
    "pavia_recon = np.dot(pavia_dict, pavia_coefs)\n",
    "print(pavia_recon.shape)"
   ]
  },
  {
   "cell_type": "code",
   "execution_count": null,
   "metadata": {},
   "outputs": [],
   "source": [
    "plt.plot(pavia_recon[:,20], label='Reconstruction')\n",
    "plt.plot(pavia_pixels[:,20], label='Original')\n",
    "plt.legend()\n",
    "plt.show()"
   ]
  },
  {
   "cell_type": "code",
   "execution_count": null,
   "metadata": {},
   "outputs": [],
   "source": []
  }
 ],
 "metadata": {
  "kernelspec": {
   "display_name": "Python 3",
   "language": "python",
   "name": "python3"
  },
  "language_info": {
   "codemirror_mode": {
    "name": "ipython",
    "version": 3
   },
   "file_extension": ".py",
   "mimetype": "text/x-python",
   "name": "python",
   "nbconvert_exporter": "python",
   "pygments_lexer": "ipython3",
   "version": "3.7.3"
  }
 },
 "nbformat": 4,
 "nbformat_minor": 2
}
