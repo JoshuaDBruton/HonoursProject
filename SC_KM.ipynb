{
 "cells": [
  {
   "cell_type": "code",
   "execution_count": 2,
   "metadata": {},
   "outputs": [],
   "source": [
    "from sklearn.cluster import KMeans, SpectralClustering\n",
    "import scipy.io as spio\n",
    "import matplotlib.pyplot as plt\n",
    "import numpy as np\n",
    "import online_dictionary_learning.omp as omp"
   ]
  },
  {
   "cell_type": "code",
   "execution_count": 3,
   "metadata": {},
   "outputs": [],
   "source": [
    "salinas_mat = spio.loadmat('data/Salinas/salinas.mat')\n",
    "salinas_gt_mat = spio.loadmat('data/Salinas/salinas_gt.mat')\n",
    "salinas_image = salinas_mat['salinasA_corrected']\n",
    "salinas_gt = salinas_gt_mat['salinasA_gt']\n",
    "\n",
    "salinas_dictionary = np.load('results/Salinas/t5000_k220_L2.npy')"
   ]
  },
  {
   "cell_type": "code",
   "execution_count": 6,
   "metadata": {},
   "outputs": [],
   "source": [
    "def kmeans_compare(image, gt, dictionary, verbose=False):\n",
    "    # Original shape of image\n",
    "    original_shape = gt.shape\n",
    "    # flatten image and gt data\n",
    "    image_flat = np.reshape(image, (-1, image.shape[2]))\n",
    "    gt_flat = np.reshape(gt, (-1))\n",
    "    # Remove Misc. Data\n",
    "    image_flat = image_flat[gt_flat!=0]\n",
    "    \n",
    "    # Compute Sparse Coefficients\n",
    "    coefs = np.zeros((image_flat.shape[0], dictionary.shape[1]))\n",
    "    \n",
    "    if verbose:\n",
    "        print('Computing sparse coefficients:\\n')\n",
    "    \n",
    "    for i in range(coefs.shape[0]):\n",
    "        coefs[i]=omp.omp(dictionary, image_flat[i], L=5, eps=None)\n",
    "        if verbose:\n",
    "            if i+1<image_flat.shape[0]:\n",
    "                print('[' + str(i+1) + '] ' + str(np.round(((i+1)/image_flat.shape[0])*100,2)) + '%', end='\\r')\n",
    "            else:\n",
    "                print('[' + str(i+1) + '] ' + str(np.round(((i+1)/image_flat.shape[0])*100,2)) + '%', end='\\n')\n",
    "\n",
    "    # Run K-Means for both data sets\n",
    "    k = np.unique(gt_flat).shape[0]-1\n",
    "    kmeans_o = SpectralClustering(n_clusters=k, affinity='nearest_neighbors', random_state=0).fit(coefs)\n",
    "    # kmeans_o = KMeans(n_clusters=k, random_state=0).fit(image_flat)\n",
    "    kmeans_s = SpectralClustering(n_clusters=k, random_state=0, affinity='nearest_neighbors').fit(image_flat)\n",
    "    \n",
    "    # Get labels\n",
    "    labels_o = kmeans_o.labels_\n",
    "    labels_s = kmeans_s.labels_\n",
    "    \n",
    "    # Reconstruct Images\n",
    "    \n",
    "    count, loc, n = 0, 0, gt_flat.shape[0]\n",
    "    final_o, final_s = np.zeros(n), np.zeros(n)\n",
    "    while count<labels_o.shape[0]:\n",
    "        if (gt_flat[loc]!=0):\n",
    "            final_o[loc]=labels_o[count]+1\n",
    "            final_s[loc]=labels_s[count]+1\n",
    "            count+=1\n",
    "        loc+=1\n",
    "    \n",
    "\n",
    "    # Reshape\n",
    "    final_o, final_s = np.reshape(final_o, original_shape), np.reshape(final_s, original_shape)\n",
    "    \n",
    "    # Return\n",
    "    return [final_o, final_s]"
   ]
  },
  {
   "cell_type": "code",
   "execution_count": 10,
   "metadata": {},
   "outputs": [
    {
     "name": "stderr",
     "output_type": "stream",
     "text": [
      "/home/joshua/anaconda3/lib/python3.7/site-packages/sklearn/manifold/spectral_embedding_.py:237: UserWarning: Graph is not fully connected, spectral embedding may not work as expected.\n",
      "  warnings.warn(\"Graph is not fully connected, spectral embedding\"\n",
      "/home/joshua/anaconda3/lib/python3.7/site-packages/sklearn/manifold/spectral_embedding_.py:237: UserWarning: Graph is not fully connected, spectral embedding may not work as expected.\n",
      "  warnings.warn(\"Graph is not fully connected, spectral embedding\"\n"
     ]
    },
    {
     "data": {
      "image/png": "[encoded data removed]",
      "text/plain": [
       "<Figure size 1080x1080 with 3 Axes>"
      ]
     },
     "metadata": {
      "needs_background": "light"
     },
     "output_type": "display_data"
    }
   ],
   "source": [
    "clusterings = kmeans_compare(image=salinas_image, gt=salinas_gt, dictionary=salinas_dictionary, verbose=False)\n",
    "\n",
    "f, ax = plt.subplots(1, 3, figsize=(15,15))\n",
    "ax[0].imshow(salinas_gt)\n",
    "ax[1].imshow(clusterings[0])\n",
    "ax[2].imshow(clusterings[1])\n",
    "ax[0].title.set_text('Ground truth image')\n",
    "ax[1].title.set_text('SC on coefficients')\n",
    "ax[2].title.set_text('SC on original pixels')\n",
    "plt.savefig('spectral_result.png')\n",
    "\n",
    "for a in ax:\n",
    "    a.axis('off')\n",
    "\n",
    "plt.show()"
   ]
  },
  {
   "cell_type": "code",
   "execution_count": null,
   "metadata": {},
   "outputs": [],
   "source": []
  }
 ],
 "metadata": {
  "kernelspec": {
   "display_name": "Python 3",
   "language": "python",
   "name": "python3"
  },
  "language_info": {
   "codemirror_mode": {
    "name": "ipython",
    "version": 3
   },
   "file_extension": ".py",
   "mimetype": "text/x-python",
   "name": "python",
   "nbconvert_exporter": "python",
   "pygments_lexer": "ipython3",
   "version": "3.7.3"
  }
 },
 "nbformat": 4,
 "nbformat_minor": 2
}
