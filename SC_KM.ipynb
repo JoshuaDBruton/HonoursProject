{
 "cells": [
  {
   "cell_type": "code",
   "execution_count": 2,
   "metadata": {},
   "outputs": [],
   "source": [
    "from sklearn.cluster import KMeans, SpectralClustering\n",
    "import scipy.io as spio\n",
    "import matplotlib.pyplot as plt\n",
    "import numpy as np\n",
    "import online_dictionary_learning.omp as omp\n",
    "from sklearn.metrics import adjusted_rand_score, adjusted_mutual_info_score\n",
    "from sklearn.decomposition import PCA\n",
    "from sklearn.preprocessing import StandardScaler"
   ]
  },
  {
   "cell_type": "code",
   "execution_count": 3,
   "metadata": {},
   "outputs": [],
   "source": [
    "IP_data_mat=spio.loadmat(\"data/IP/Indian_pines_corrected.mat\")\n",
    "IP_gt_mat=spio.loadmat(\"data/IP/Indian_pines_gt.mat\")\n",
    "IP_image=IP_data_mat[\"indian_pines_corrected\"]\n",
    "IP_gt=IP_gt_mat['indian_pines_gt']\n",
    "\n",
    "pavia_mat = spio.loadmat('data/PaviaU/PaviaU.mat')\n",
    "pavia_gt_mat = spio.loadmat('data/PaviaU/PaviaU_gt.mat')\n",
    "pavia_image = pavia_mat['paviaU']\n",
    "pavia_gt = pavia_gt_mat['paviaU_gt']\n",
    "\n",
    "salinas_mat = spio.loadmat('data/Salinas/salinas.mat')\n",
    "salinas_gt_mat = spio.loadmat('data/Salinas/salinas_gt.mat')\n",
    "salinas_image = salinas_mat['salinasA_corrected']\n",
    "salinas_gt = salinas_gt_mat['salinasA_gt']\n",
    "\n",
    "salinas_dictionary = np.load('results/Salinas/t5000_k220_L2.npy')\n",
    "IP_dictionary = np.load('results/Indian_Pines/t5000_k220_L2.npy')\n",
    "pavia_dictionary = np.load('results/Pavia/t5000_k120_L2.npy')"
   ]
  },
  {
   "cell_type": "code",
   "execution_count": 4,
   "metadata": {},
   "outputs": [],
   "source": [
    "def randIndex(gt_labels, pred_labels):\n",
    "    return adjusted_mutual_info_score(np.reshape(gt_labels, -1), np.reshape(pred_labels, -1), average_method='warn')"
   ]
  },
  {
   "cell_type": "code",
   "execution_count": 5,
   "metadata": {},
   "outputs": [],
   "source": [
    "def kmeans_compare(image, gt, dictionary, verbose=False, L=5):\n",
    "    # Original shape of image\n",
    "    original_shape = gt.shape\n",
    "    # flatten image and gt data\n",
    "    image_flat = np.reshape(image, (-1, image.shape[2]))\n",
    "    gt_flat = np.reshape(gt, (-1))\n",
    "    # Remove Misc. Data\n",
    "    image_flat = image_flat[gt_flat!=0]\n",
    "    \n",
    "    # Compute Sparse Coefficients\n",
    "    coefs = np.zeros((image_flat.shape[0], dictionary.shape[1]))\n",
    "    \n",
    "    if verbose:\n",
    "        print('Computing sparse coefficients:\\n')\n",
    "    \n",
    "    for i in range(coefs.shape[0]):\n",
    "        coefs[i]=omp.omp(dictionary, image_flat[i], L=L, eps=None)\n",
    "        if verbose:\n",
    "            if i+1<image_flat.shape[0]:\n",
    "                print('[' + str(i+1) + '] ' + str(np.round(((i+1)/image_flat.shape[0])*100,2)) + '%', end='\\r')\n",
    "            else:\n",
    "                print('[' + str(i+1) + '] ' + str(np.round(((i+1)/image_flat.shape[0])*100,2)) + '%', end='\\n')\n",
    "\n",
    "    # Run K-Means for both data sets\n",
    "    k = np.unique(gt_flat).shape[0]-1\n",
    "    kmeans_o = SpectralClustering(n_clusters=k, affinity='nearest_neighbors', random_state=0).fit(coefs)\n",
    "    # kmeans_o = KMeans(n_clusters=k, random_state=0).fit(image_flat)\n",
    "    kmeans_s = SpectralClustering(n_clusters=k, random_state=0, affinity='nearest_neighbors').fit(image_flat)\n",
    "    \n",
    "    # Get labels\n",
    "    labels_o = kmeans_o.labels_\n",
    "    labels_s = kmeans_s.labels_\n",
    "    \n",
    "    # Reconstruct Images\n",
    "    \n",
    "    count, loc, n = 0, 0, gt_flat.shape[0]\n",
    "    final_o, final_s = np.zeros(n), np.zeros(n)\n",
    "    while count<labels_o.shape[0]:\n",
    "        if (gt_flat[loc]!=0):\n",
    "            final_o[loc]=labels_o[count]+1\n",
    "            final_s[loc]=labels_s[count]+1\n",
    "            count+=1\n",
    "        loc+=1\n",
    "    \n",
    "\n",
    "    # Reshape\n",
    "    final_o, final_s = np.reshape(final_o, original_shape), np.reshape(final_s, original_shape)\n",
    "    \n",
    "    # Return\n",
    "    return [final_o, final_s]"
   ]
  },
  {
   "cell_type": "code",
   "execution_count": 6,
   "metadata": {},
   "outputs": [
    {
     "name": "stderr",
     "output_type": "stream",
     "text": [
      "/home/joshua/anaconda3/lib/python3.7/site-packages/sklearn/manifold/spectral_embedding_.py:237: UserWarning: Graph is not fully connected, spectral embedding may not work as expected.\n",
      "  warnings.warn(\"Graph is not fully connected, spectral embedding\"\n",
      "/home/joshua/anaconda3/lib/python3.7/site-packages/sklearn/manifold/spectral_embedding_.py:237: UserWarning: Graph is not fully connected, spectral embedding may not work as expected.\n",
      "  warnings.warn(\"Graph is not fully connected, spectral embedding\"\n"
     ]
    },
    {
     "data": {
      "image/png": "[encoded data removed]",
      "text/plain": [
       "<Figure size 1080x1080 with 3 Axes>"
      ]
     },
     "metadata": {
      "needs_background": "light"
     },
     "output_type": "display_data"
    }
   ],
   "source": [
    "clusterings_sal = kmeans_compare(image=salinas_image, gt=salinas_gt, dictionary=salinas_dictionary, verbose=False)\n",
    "\n",
    "f, ax = plt.subplots(1, 3, figsize=(15,15))\n",
    "ax[0].imshow(salinas_gt)\n",
    "ax[2].imshow(clusterings_sal[0])\n",
    "ax[1].imshow(clusterings_sal[1])\n",
    "ax[0].title.set_text('Ground truth image')\n",
    "ax[2].title.set_text('SC on coefficients')\n",
    "ax[1].title.set_text('SC on original pixels')\n",
    "plt.savefig('spectral_result.png')\n",
    "\n",
    "for a in ax:\n",
    "    a.axis('off')\n",
    "\n",
    "plt.savefig('Salinas_spectral_comparison')\n",
    "plt.show()"
   ]
  },
  {
   "cell_type": "code",
   "execution_count": null,
   "metadata": {},
   "outputs": [],
   "source": [
    "# clusterings_IP = kmeans_compare(image=IP_image, gt=IP_gt, dictionary=IP_dictionary, verbose=False)\n",
    "\n",
    "# f, ax = plt.subplots(1, 3, figsize=(15,15))\n",
    "# ax[0].imshow(IP_gt)\n",
    "# ax[1].imshow(clusterings_IP[0])\n",
    "# ax[2].imshow(clusterings_IP[1])\n",
    "# ax[0].title.set_text('Ground truth image')\n",
    "# ax[1].title.set_text('SC on coefficients')\n",
    "# ax[2].title.set_text('SC on original pixels')\n",
    "# plt.savefig('spectral_result.png')\n",
    "\n",
    "# for a in ax:\n",
    "#     a.axis('off')\n",
    "\n",
    "# plt.show()"
   ]
  },
  {
   "cell_type": "code",
   "execution_count": null,
   "metadata": {},
   "outputs": [],
   "source": [
    "# clusterings_pav = kmeans_compare(image=pavia_image, gt=pavia_gt, dictionary=pavia_dictionary, verbose=False)\n",
    "\n",
    "# f, ax = plt.subplots(1, 3, figsize=(15,15))\n",
    "# ax[0].imshow(pavia_gt)\n",
    "# ax[1].imshow(clusterings_pav[0])\n",
    "# ax[2].imshow(clusterings_pav[1])\n",
    "# ax[0].title.set_text('Ground truth image')\n",
    "# ax[1].title.set_text('SC on coefficients')\n",
    "# ax[2].title.set_text('SC on original pixels')\n",
    "# plt.savefig('spectral_result.png')\n",
    "\n",
    "# for a in ax:\n",
    "#     a.axis('off')\n",
    "\n",
    "# plt.show()"
   ]
  },
  {
   "cell_type": "code",
   "execution_count": 7,
   "metadata": {},
   "outputs": [
    {
     "name": "stdout",
     "output_type": "stream",
     "text": [
      "For Salinas the AMIS is 0.948661 on coefs and 0.898056 on pixels.\n",
      "\n"
     ]
    },
    {
     "name": "stderr",
     "output_type": "stream",
     "text": [
      "/home/joshua/anaconda3/lib/python3.7/site-packages/sklearn/metrics/cluster/supervised.py:732: FutureWarning: The behavior of AMI will change in version 0.22. To match the behavior of 'v_measure_score', AMI will use average_method='arithmetic' by default.\n",
      "  FutureWarning)\n"
     ]
    }
   ],
   "source": [
    "salinas_sc_ri = randIndex(salinas_gt, clusterings_sal[0]) \n",
    "salinas_op_ri = randIndex(salinas_gt, clusterings_sal[1])\n",
    "\n",
    "# IP_sc_ri = randIndex(IP_gt, clusterings_IP[0])\n",
    "# IP_op_ri = randIndex(IP_gt, clusterings_IP[1])\n",
    "\n",
    "# pavia_sc_ri = randIndex(pavia_gt, clusterings_pav[0])\n",
    "# pavia_op_ri = randIndex(pavia_gt, clusterings_pav[1])\n",
    "\n",
    "print(\"For Salinas the AMIS is %f on coefs and %f on pixels.\\n\"%(salinas_sc_ri, salinas_op_ri))\n",
    "# print(\"For IP the AMIS is %f on coefs and %f on pixels.\\n\"%(IP_sc_ri, IP_op_ri))\n",
    "# print(\"For Pavia the AMIS is %f on coefs and %f on pixels.\\n\"%(pavia_sc_ri, pavia_op_ri))"
   ]
  },
  {
   "cell_type": "code",
   "execution_count": 8,
   "metadata": {},
   "outputs": [
    {
     "data": {
      "image/png": "[encoded data removed]",
      "text/plain": [
       "<Figure size 432x288 with 1 Axes>"
      ]
     },
     "metadata": {
      "needs_background": "light"
     },
     "output_type": "display_data"
    }
   ],
   "source": [
    "plt.imshow(clusterings_sal[0])\n",
    "plt.axis('off')\n",
    "plt.savefig('clusterings_sal_sc.jpg')\n",
    "plt.show()"
   ]
  },
  {
   "cell_type": "code",
   "execution_count": 9,
   "metadata": {},
   "outputs": [],
   "source": [
    "def PCA_clustering(image, gt, n_components):\n",
    "    # Preprocessing\n",
    "    m, n, c = np.array(image).shape\n",
    "    image_flat = np.reshape(image, (m*n, c))\n",
    "    gt_flat = np.reshape(gt, -1)\n",
    "    image_flat = np.array(image_flat, dtype=np.float64)\n",
    "    \n",
    "    # Standardise the data\n",
    "    image_std = StandardScaler().fit_transform(image_flat)\n",
    "    \n",
    "    # PCA\n",
    "    pca = PCA(n_components=n_components)\n",
    "    pCs = pca.fit_transform(image_std)\n",
    "    \n",
    "    # KMeans\n",
    "    k = np.unique(gt_flat).shape[0]-1\n",
    "    pCs = pCs[gt_flat!=0]\n",
    "    image_flat = image_flat[gt_flat!=0]\n",
    "    \n",
    "    kmeans = SpectralClustering(n_clusters=k, affinity='nearest_neighbors', random_state=0).fit(pCs)\n",
    "    \n",
    "    labels = kmeans.labels_\n",
    "    \n",
    "    # Reconstruct Images\n",
    "    count, loc, n = 0, 0, gt_flat.shape[0]\n",
    "    final = np.zeros(n)\n",
    "    while count<labels.shape[0]:\n",
    "        if (gt_flat[loc]!=0):\n",
    "            final[loc]=labels[count]+1\n",
    "            count+=1\n",
    "        loc+=1\n",
    "    \n",
    "    final = np.reshape(final, gt.shape)\n",
    "    return final"
   ]
  },
  {
   "cell_type": "code",
   "execution_count": 10,
   "metadata": {},
   "outputs": [
    {
     "name": "stderr",
     "output_type": "stream",
     "text": [
      "/home/joshua/anaconda3/lib/python3.7/site-packages/sklearn/manifold/spectral_embedding_.py:237: UserWarning: Graph is not fully connected, spectral embedding may not work as expected.\n",
      "  warnings.warn(\"Graph is not fully connected, spectral embedding\"\n"
     ]
    }
   ],
   "source": [
    "pca_labels = PCA_clustering(salinas_image, salinas_gt, 50)"
   ]
  },
  {
   "cell_type": "code",
   "execution_count": 11,
   "metadata": {},
   "outputs": [
    {
     "data": {
      "image/png": "[encoded data removed]",
      "text/plain": [
       "<Figure size 720x720 with 3 Axes>"
      ]
     },
     "metadata": {
      "needs_background": "light"
     },
     "output_type": "display_data"
    }
   ],
   "source": [
    "f, ax = plt.subplots(1, 3, figsize=(10,10))\n",
    "ax[0].imshow(clusterings_sal[1])\n",
    "ax[1].imshow(pca_labels)\n",
    "ax[2].imshow(clusterings_sal[0])\n",
    "ax[0].title.set_text('Original pixels')\n",
    "ax[1].title.set_text('PCA')\n",
    "ax[2].title.set_text('Sparse coefficients')\n",
    "\n",
    "for a in ax:\n",
    "    a.axis('off')\n",
    "\n",
    "plt.savefig('final_comparison.png')\n",
    "plt.show()"
   ]
  },
  {
   "cell_type": "code",
   "execution_count": null,
   "metadata": {},
   "outputs": [],
   "source": []
  }
 ],
 "metadata": {
  "kernelspec": {
   "display_name": "Python 3",
   "language": "python",
   "name": "python3"
  },
  "language_info": {
   "codemirror_mode": {
    "name": "ipython",
    "version": 3
   },
   "file_extension": ".py",
   "mimetype": "text/x-python",
   "name": "python",
   "nbconvert_exporter": "python",
   "pygments_lexer": "ipython3",
   "version": "3.7.3"
  }
 },
 "nbformat": 4,
 "nbformat_minor": 2
}
