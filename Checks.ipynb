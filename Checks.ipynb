{
 "cells": [
  {
   "cell_type": "code",
   "execution_count": 1,
   "metadata": {},
   "outputs": [],
   "source": [
    "import scipy.io as spio\n",
    "import matplotlib.pyplot as plt\n",
    "import numpy as np\n",
    "from sklearn.cluster import KMeans, SpectralClustering\n",
    "import spams\n",
    "from scipy import sparse\n",
    "from sklearn.feature_extraction import image"
   ]
  },
  {
   "cell_type": "code",
   "execution_count": 2,
   "metadata": {},
   "outputs": [],
   "source": [
    "IP_data_mat=spio.loadmat(\"data/IP/Indian_pines_corrected.mat\")\n",
    "IP_gt_mat=spio.loadmat(\"data/IP/Indian_pines_gt.mat\")\n",
    "IP_image=IP_data_mat[\"indian_pines_corrected\"]\n",
    "IP_gt=IP_gt_mat['indian_pines_gt']\n",
    "\n",
    "pavia_mat = spio.loadmat('data/PaviaU/PaviaU.mat')\n",
    "pavia_gt_mat = spio.loadmat('data/PaviaU/PaviaU_gt.mat')\n",
    "pavia_image = pavia_mat['paviaU']\n",
    "pavia_gt = pavia_gt_mat['paviaU_gt']\n",
    "\n",
    "salinas_mat = spio.loadmat('data/Salinas/salinas.mat')\n",
    "salinas_gt_mat = spio.loadmat('data/Salinas/salinas_gt.mat')\n",
    "salinas_image = salinas_mat['salinasA_corrected']\n",
    "salinas_gt = salinas_gt_mat['salinasA_gt']"
   ]
  },
  {
   "cell_type": "code",
   "execution_count": 3,
   "metadata": {},
   "outputs": [],
   "source": [
    "class Compute_coefs:\n",
    "    def __init__(self, image, dictionary, tilesize=10, L=3, eps=0.1):\n",
    "        self.image=image\n",
    "        self.ts=tilesize\n",
    "        self.tiles=self.tile()\n",
    "        self.L=L\n",
    "        self.eps=eps\n",
    "        self.atoms=dictionary\n",
    "        self.ind_groups=np.array(np.arange(0,self.tiles.shape[1],self.ts*self.ts), dtype=np.int32)\n",
    "    def tile(self):\n",
    "        ts = self.ts\n",
    "        thsi = np.pad(self.image.copy(), [ts//2,ts//2], mode='edge')\n",
    "        hsi = thsi[:,:,ts//2:thsi.shape[2]-ts//2]\n",
    "        tiles = image.extract_patches_2d(hsi, patch_size=[ts, ts], max_patches=None)\n",
    "        tiles = np.reshape(tiles, (tiles.shape[0], ts*ts, tiles.shape[3]))\n",
    "        tiles = np.reshape(tiles, (tiles.shape[0]*tiles.shape[1], tiles.shape[2]))\n",
    "        tiles=np.array(tiles, dtype=np.double)\n",
    "        tiles/=np.linalg.norm(tiles, axis=1, keepdims=True)\n",
    "        return np.asfortranarray(tiles.T, dtype=np.double)\n",
    "    def get_coefs(self):\n",
    "        self.coefs = spams.somp(self.tiles[:,:], self.atoms, self.ind_groups, L=self.L, eps=self.eps, numThreads=-1)\n",
    "        return self.coefs\n",
    "\n",
    "def js_clustering(dictionary, image, gt, L=5, tilesize=3, eps=0.1):\n",
    "    # Original shape of the image\n",
    "    o_shape = gt.shape\n",
    "    # Flatten the image\n",
    "    image_flat = np.reshape(image, (-1, image.shape[2]))\n",
    "    gt_flat = np.reshape(gt, (-1))\n",
    "    # Remove Misc. classes\n",
    "    image_flat = image_flat[gt_flat!=0]\n",
    "    \n",
    "    # Compute sparse coefficients\n",
    "    coef_obj = Compute_coefs(image, dictionary, tilesize=tilesize, L=L, eps=eps)\n",
    "    coefs = coef_obj.get_coefs()\n",
    "    coefs = sparse.coo_matrix(coefs)\n",
    "    coefs = coefs.todense().T\n",
    "    \n",
    "    # Pick coefficients out of tile\n",
    "    coefs_select = []\n",
    "    for i in range(tilesize*tilesize, len(coefs)+1, tilesize*tilesize):\n",
    "        coefs_select.append(np.mean(coefs[i:i+tilesize*tilesize], axis=0))\n",
    "    coefs = np.array(coefs_select, dtype = np.float64)\n",
    "    coefs = coefs[:, 0, :]\n",
    "    coefs_flat = coefs[gt_flat!=0]\n",
    "    \n",
    "    # KMeans\n",
    "    k=np.unique(gt_flat).shape[0]-1\n",
    "    \n",
    "    kmeans = KMeans(n_clusters=k, random_state=0).fit(coefs_flat)\n",
    "    labels = kmeans.labels_\n",
    "    \n",
    "    count, loc, n = 0, 0, gt_flat.shape[0]\n",
    "    final = np.zeros(n)\n",
    "\n",
    "    while count<labels.shape[0]:\n",
    "        if (gt_flat[loc]!=0):\n",
    "            final[loc]=labels[count]+1\n",
    "            count+=1\n",
    "        loc+=1\n",
    "    final=np.reshape(final, salinas_gt.shape)\n",
    "    \n",
    "    return final"
   ]
  },
  {
   "cell_type": "code",
   "execution_count": 5,
   "metadata": {},
   "outputs": [
    {
     "name": "stderr",
     "output_type": "stream",
     "text": [
      "/home/joshua/anaconda3/lib/python3.7/site-packages/numpy/matrixlib/defmatrix.py:442: RuntimeWarning: Mean of empty slice.\n",
      "  return N.ndarray.mean(self, axis, dtype, out, keepdims=True)._collapse(axis)\n",
      "/home/joshua/anaconda3/lib/python3.7/site-packages/numpy/core/_methods.py:78: RuntimeWarning: invalid value encountered in true_divide\n",
      "  ret, rcount, out=ret, casting='unsafe', subok=False)\n",
      "/home/joshua/anaconda3/lib/python3.7/site-packages/numpy/matrixlib/defmatrix.py:442: RuntimeWarning: Mean of empty slice.\n",
      "  return N.ndarray.mean(self, axis, dtype, out, keepdims=True)._collapse(axis)\n",
      "/home/joshua/anaconda3/lib/python3.7/site-packages/numpy/core/_methods.py:78: RuntimeWarning: invalid value encountered in true_divide\n",
      "  ret, rcount, out=ret, casting='unsafe', subok=False)\n",
      "/home/joshua/anaconda3/lib/python3.7/site-packages/numpy/matrixlib/defmatrix.py:442: RuntimeWarning: Mean of empty slice.\n",
      "  return N.ndarray.mean(self, axis, dtype, out, keepdims=True)._collapse(axis)\n",
      "/home/joshua/anaconda3/lib/python3.7/site-packages/numpy/core/_methods.py:78: RuntimeWarning: invalid value encountered in true_divide\n",
      "  ret, rcount, out=ret, casting='unsafe', subok=False)\n",
      "/home/joshua/anaconda3/lib/python3.7/site-packages/numpy/matrixlib/defmatrix.py:442: RuntimeWarning: Mean of empty slice.\n",
      "  return N.ndarray.mean(self, axis, dtype, out, keepdims=True)._collapse(axis)\n",
      "/home/joshua/anaconda3/lib/python3.7/site-packages/numpy/core/_methods.py:78: RuntimeWarning: invalid value encountered in true_divide\n",
      "  ret, rcount, out=ret, casting='unsafe', subok=False)\n",
      "/home/joshua/anaconda3/lib/python3.7/site-packages/numpy/matrixlib/defmatrix.py:442: RuntimeWarning: Mean of empty slice.\n",
      "  return N.ndarray.mean(self, axis, dtype, out, keepdims=True)._collapse(axis)\n",
      "/home/joshua/anaconda3/lib/python3.7/site-packages/numpy/core/_methods.py:78: RuntimeWarning: invalid value encountered in true_divide\n",
      "  ret, rcount, out=ret, casting='unsafe', subok=False)\n"
     ]
    },
    {
     "data": {
      "image/png": "[encoded data removed]",
      "text/plain": [
       "<Figure size 1080x1080 with 5 Axes>"
      ]
     },
     "metadata": {
      "needs_background": "light"
     },
     "output_type": "display_data"
    }
   ],
   "source": [
    "k = 330\n",
    "L = 3\n",
    "t = 5000\n",
    "eps = 0.01\n",
    "tilesizes = [3, 5, 7, 9, 11]\n",
    "dictionaries = []\n",
    "for ts in tilesizes:\n",
    "    dictionaries.append(np.load('results/JSR/salinas_k%d_L%d_t%d_eps001_ts%d.npy'%(k, L, t, ts)))\n",
    "\n",
    "clusterings = []\n",
    "for i in range(len(dictionaries)):\n",
    "    clusterings.append(js_clustering(dictionary=dictionaries[i], image=salinas_image, gt=salinas_gt, L=L, tilesize=tilesizes[i], eps=eps))\n",
    "\n",
    "f, ax = plt.subplots(1, len(clusterings), figsize=(15,15))\n",
    "for i in range(len(clusterings)):\n",
    "    ax[i].imshow(clusterings[i])\n",
    "    ax[i].axis('off')\n",
    "\n",
    "plt.savefig('JSR_Result.jpg')\n",
    "plt.show()"
   ]
  },
  {
   "cell_type": "code",
   "execution_count": null,
   "metadata": {},
   "outputs": [],
   "source": []
  }
 ],
 "metadata": {
  "kernelspec": {
   "display_name": "Python 3",
   "language": "python",
   "name": "python3"
  },
  "language_info": {
   "codemirror_mode": {
    "name": "ipython",
    "version": 3
   },
   "file_extension": ".py",
   "mimetype": "text/x-python",
   "name": "python",
   "nbconvert_exporter": "python",
   "pygments_lexer": "ipython3",
   "version": "3.7.3"
  }
 },
 "nbformat": 4,
 "nbformat_minor": 2
}
