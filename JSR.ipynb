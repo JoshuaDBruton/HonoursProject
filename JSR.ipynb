{
 "cells": [
  {
   "cell_type": "markdown",
   "metadata": {},
   "source": [
    "# Imports"
   ]
  },
  {
   "cell_type": "code",
   "execution_count": 1,
   "metadata": {},
   "outputs": [],
   "source": [
    "import scipy.io as spio\n",
    "import matplotlib.pyplot as plt\n",
    "import numpy as np\n",
    "import random\n",
    "import spams\n",
    "from scipy import sparse\n",
    "from sklearn.feature_extraction import image"
   ]
  },
  {
   "cell_type": "markdown",
   "metadata": {},
   "source": [
    "# Read-in HSI"
   ]
  },
  {
   "cell_type": "code",
   "execution_count": 2,
   "metadata": {},
   "outputs": [],
   "source": [
    "#pavia_mat = spio.loadmat('data/PaviaU/PaviaU.mat')\n",
    "#pavia_gt_mat = spio.loadmat('data/PaviaU/PaviaU_gt.mat')\n",
    "#pavia_image = pavia_mat['paviaU']\n",
    "#pavia_gt = pavia_gt_mat['paviaU_gt']\n",
    "\n",
    "# IP_data_mat=spio.loadmat(\"data/IP/Indian_pines_corrected.mat\")\n",
    "# IP_gt_mat=spio.loadmat(\"data/IP/Indian_pines_gt.mat\")\n",
    "# IP_image=IP_data_mat[\"indian_pines_corrected\"]\n",
    "# IP_gt=IP_gt_mat['indian_pines_gt']\n",
    "\n",
    "salinas_mat = spio.loadmat('data/Salinas/salinas.mat')\n",
    "salinas_gt_mat = spio.loadmat('data/Salinas/salinas_gt.mat')\n",
    "salinas_image = salinas_mat['salinasA_corrected']\n",
    "salinas_gt = salinas_gt_mat['salinasA_gt']"
   ]
  },
  {
   "cell_type": "markdown",
   "metadata": {},
   "source": [
    "# JSR Dictionary Learning"
   ]
  },
  {
   "cell_type": "code",
   "execution_count": 3,
   "metadata": {},
   "outputs": [],
   "source": [
    "def progress(curr_it, max_it):\n",
    "    if (curr_it) < max_it:\n",
    "        print('[{0}] {1}%'.format((curr_it+1), np.round(((curr_it+1)/max_it)*100,2)), end='\\r')\n",
    "    else:\n",
    "        print('[{0}] {1}%'.format((curr_it+1), np.round(((curr_it+1)/max_it)*100,2)), end='\\n')\n",
    "\n",
    "# Dictionary update step from ODL, taken from J Mairal \"Online Dictionary Learning for Sparse Coding\"\n",
    "def updateDict(D, A, B):\n",
    "    D = D.copy()\n",
    "    DA  = D.dot(A)\n",
    "    count = 0\n",
    "    for j in range(D.shape[1]):\n",
    "        u_j = (B[:, j] - np.matmul(D, A[:, j]))/A[j, j] + D[:, j]\n",
    "        D[:, j] = u_j/max([1, np.linalg.norm(u_j)])\n",
    "    D = np.array(D, dtype=np.double)\n",
    "    return D\n",
    "\n",
    "class Jsr_odl:\n",
    "    def drawRand(self):\n",
    "        rand = random.randint(0,self.tiles.shape[0]-1)\n",
    "        return self.tiles[:,rand]\n",
    "    def normaliseD(self):\n",
    "        D = self.atoms.copy()\n",
    "        self.atoms = np.asfortranarray(D / np.tile(np.sqrt((D*D).sum(axis=0)),(D.shape[0],1)),dtype=np.double)\n",
    "    def tile(self):\n",
    "#         hsi = self.image.copy()\n",
    "#         ts = self.ts\n",
    "#         tiles = np.array([hsi[i:i+ts, j:j+ts]for j in range(0, hsi.shape[1], ts) for i in range(0, hsi.shape[0], ts)])\n",
    "#         tiles = np.reshape(tiles, (tiles.shape[0], ts*ts, tiles.shape[3]))\n",
    "#         tiles = np.reshape(tiles, (tiles.shape[0]*tiles.shape[1], tiles.shape[2]))\n",
    "#         tiles=np.array(tiles, dtype=np.double)\n",
    "#         tiles/=np.linalg.norm(tiles, axis=1, keepdims=True)\n",
    "        ts = self.ts\n",
    "        thsi = np.pad(self.image.copy(), [1,1], mode='edge')\n",
    "        hsi = thsi[:,:,1:thsi.shape[2]-1]\n",
    "        tiles = image.extract_patches_2d(hsi, patch_size=[ts, ts], max_patches=None)\n",
    "        tiles = np.reshape(tiles, (tiles.shape[0], ts*ts, tiles.shape[3]))\n",
    "        tiles = np.reshape(tiles, (tiles.shape[0]*tiles.shape[1], tiles.shape[2]))\n",
    "        tiles=np.array(tiles, dtype=np.double)\n",
    "        tiles/=np.linalg.norm(tiles, axis=1, keepdims=True)\n",
    "        return np.asfortranarray(tiles.T, dtype=np.double)\n",
    "    def initD(self):\n",
    "        self.atoms = np.zeros((self.tiles.shape[0], self.num_coms))\n",
    "        for i in range(self.num_coms):\n",
    "            self.atoms[:,i]=self.drawRand()\n",
    "        self.atoms=np.asfortranarray(self.atoms, dtype=np.double)\n",
    "    def __init__(self, image, k=100, tilesize=10):\n",
    "        if k <= image.shape[2]:\n",
    "            print('Select an adequate number of components for %s.' %str(image.shape))\n",
    "            return\n",
    "        else:\n",
    "            self.num_coms = k\n",
    "        self.image = image\n",
    "        self.ts = tilesize\n",
    "        self.tiles=self.tile()\n",
    "        assert np.allclose(np.linalg.norm(self.tiles, axis=0), 1.)\n",
    "        self.atoms=None\n",
    "        self.coefs=None\n",
    "        self.initD()\n",
    "        assert np.allclose(np.linalg.norm(self.atoms, axis=0), 1.)\n",
    "        self.ind_groups=np.array(np.arange(0,self.tiles.shape[1],self.ts*self.ts), dtype=np.int32)\n",
    "    def get_coefs(self):\n",
    "        self.coefs = spams.somp(self.tiles[:,:], self.atoms, self.ind_groups, L=self.L, eps=self.eps, numThreads=self.num_threads)\n",
    "        return self.coefs\n",
    "    def fit(self, max_iter=1000, L=3, eps=0.1, numThreads=-1):\n",
    "        self.max_iter=max_iter\n",
    "        self.L=L\n",
    "        self.eps=eps\n",
    "        self.num_threads=numThreads\n",
    "        A=np.zeros((self.num_coms, self.num_coms))\n",
    "        B=np.zeros((self.tiles.shape[0], self.num_coms))\n",
    "        for i in range(self.max_iter):\n",
    "            progress(i, self.max_iter)\n",
    "            random_index = random.choice(self.ind_groups)\n",
    "            signals = self.tiles[:,random_index:(random_index+(self.ts**2))]\n",
    "            alphas = spams.somp(signals, self.atoms, self.ind_groups[:1], L=self.L, eps=self.eps, numThreads=self.num_threads)\n",
    "            alphas = sparse.coo_matrix(alphas)\n",
    "            alphas = alphas.todense()\n",
    "            for j in range(alphas.shape[1]):\n",
    "                alpha=alphas[:, j]\n",
    "                signal=signals[:,j]\n",
    "                A += (alpha.T.dot(alpha))\n",
    "                B += (signal[:, None]*alpha[:].T)\n",
    "                self.atoms = updateDict(self.atoms, A, B)\n",
    "                self.atoms = np.asfortranarray(self.atoms)\n",
    "                self.normaliseD()"
   ]
  },
  {
   "cell_type": "markdown",
   "metadata": {},
   "source": [
    "## Experiment with tilesize"
   ]
  },
  {
   "cell_type": "code",
   "execution_count": 5,
   "metadata": {},
   "outputs": [
    {
     "name": "stdout",
     "output_type": "stream",
     "text": [
      "results/JSR/salinas_k330_L3_t5000_eps001_ts9\n",
      "\n",
      "[[ 5.93725336e-03 -1.55883578e-02 -1.24121890e-02 ...  1.06615079e-02\n",
      "   1.04379314e-02  1.00466524e-02]\n",
      " [-1.28761095e-01 -2.24541615e-01 -7.26078667e-02 ...  1.33207234e-02\n",
      "   1.33327900e-02  1.30584566e-02]\n",
      " [ 3.73916556e-02  8.05717818e-03 -1.27416428e-02 ...  1.92227450e-02\n",
      "   1.92795936e-02  1.92230811e-02]\n",
      " ...\n",
      " [ 1.96181008e-03  2.37066048e-03  5.60560636e-04 ...  7.29358327e-05\n",
      "   7.96498907e-05  6.76912436e-05]\n",
      " [-4.20170753e-03 -6.56205373e-03 -1.86885317e-03 ...  8.37232405e-05\n",
      "   5.69903648e-05  3.64877653e-05]\n",
      " [ 3.90223911e-03  5.23170030e-03  1.33838379e-03 ...  9.21971392e-05\n",
      "   1.01406867e-04  1.12204660e-04]]\n",
      "\n",
      "\n",
      "results/JSR/salinas_k330_L3_t5000_eps001_ts11\n",
      "\n",
      "[[ 1.17651969e-02 -6.18741601e-03 -1.03252943e-02 ...  1.06357098e-02\n",
      "   1.06296037e-02  1.05920113e-02]\n",
      " [ 4.28532400e-02  7.46253557e-02  9.40297077e-03 ...  1.28320198e-02\n",
      "   1.30273938e-02  1.32021865e-02]\n",
      " [ 2.37659018e-02 -2.74298346e-03 -1.57410476e-02 ...  1.88059316e-02\n",
      "   1.89290012e-02  1.90054346e-02]\n",
      " ...\n",
      " [ 1.05253296e-04 -9.91625752e-04 -4.40248380e-04 ...  1.17689059e-04\n",
      "   8.61849210e-05  5.27259757e-05]\n",
      " [-1.11403406e-03 -3.59351167e-03 -1.02227031e-03 ...  2.10259225e-05\n",
      "   2.82406018e-05  2.46930973e-05]\n",
      " [-5.07274982e-03 -1.56514648e-02 -4.30888932e-03 ...  6.01658224e-05\n",
      "   6.72534697e-05  5.92897243e-05]]\n",
      "\n",
      "\n"
     ]
    }
   ],
   "source": [
    "tilesizes = [9, 11]\n",
    "\n",
    "for ts in tilesizes:\n",
    "    jsr = Jsr_odl(image=salinas_image, k=330, tilesize=ts)\n",
    "    jsr.fit(max_iter=5000, L=3, eps=0.1, numThreads=-1)\n",
    "    final_d = jsr.atoms\n",
    "    print('results/JSR/salinas_k%d_L%d_t%d_eps001_ts%d\\n'%(330, 3, 5000, ts))\n",
    "    print(final_d)\n",
    "    print('\\n')\n",
    "    np.save('results/JSR/salinas_k%d_L%d_t%d_eps001_ts%d'%(330, 3, 5000, ts), final_d)"
   ]
  },
  {
   "cell_type": "code",
   "execution_count": null,
   "metadata": {},
   "outputs": [],
   "source": []
  }
 ],
 "metadata": {
  "kernelspec": {
   "display_name": "Python 3",
   "language": "python",
   "name": "python3"
  },
  "language_info": {
   "codemirror_mode": {
    "name": "ipython",
    "version": 3
   },
   "file_extension": ".py",
   "mimetype": "text/x-python",
   "name": "python",
   "nbconvert_exporter": "python",
   "pygments_lexer": "ipython3",
   "version": "3.7.3"
  }
 },
 "nbformat": 4,
 "nbformat_minor": 2
}
