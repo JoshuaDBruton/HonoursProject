{
 "cells": [
  {
   "cell_type": "code",
   "execution_count": 1,
   "metadata": {},
   "outputs": [],
   "source": [
    "import numpy as np\n",
    "import matplotlib.pyplot as plt\n",
    "from sklearn.cluster import KMeans\n",
    "import scipy.io as spio\n",
    "import online_dictionary_learning.omp as omp"
   ]
  },
  {
   "cell_type": "code",
   "execution_count": 12,
   "metadata": {},
   "outputs": [],
   "source": [
    "salinas_mat = spio.loadmat('data/Salinas/salinas.mat')\n",
    "salinas_gt_mat = spio.loadmat('data/Salinas/salinas_gt.mat')\n",
    "salinas_image = salinas_mat['salinasA_corrected']\n",
    "salinas_gt = salinas_gt_mat['salinasA_gt']"
   ]
  },
  {
   "cell_type": "code",
   "execution_count": 13,
   "metadata": {},
   "outputs": [],
   "source": [
    "def sparse_cluster(dictionary, image, gt, L=5,verbose=False):\n",
    "    # Original shape of the image\n",
    "    original_shape=gt.shape\n",
    "    # flatten image and gt\n",
    "    image_flat = np.reshape(image, (-1, image.shape[2]))\n",
    "    gt_flat = np.reshape(gt, (-1))\n",
    "    # Remove Misc. classes\n",
    "    image_flat = image_flat[gt_flat!=0]\n",
    "    \n",
    "    # Compute Sparse Coefficients\n",
    "    coefs = np.zeros((image_flat.shape[0], dictionary.shape[1]))\n",
    "    \n",
    "    if verbose:\n",
    "        print('Computing sparse coefficients:')\n",
    "    \n",
    "    for i in range(coefs.shape[0]):\n",
    "        coefs[i]=omp.omp(dictionary, image_flat[i], L=L, eps=None)\n",
    "        if verbose:\n",
    "            if i+1<image_flat.shape[0]:\n",
    "                print('[' + str(i+1) + '] ' + str(np.round(((i+1)/image_flat.shape[0])*100,2)) + '%', end='\\r')\n",
    "            else:\n",
    "                print('[' + str(i+1) + '] ' + str(np.round(((i+1)/image_flat.shape[0])*100,2)) + '%', end='\\n')\n",
    "                \n",
    "    # KMeans\n",
    "    k=np.unique(gt_flat).shape[0]-1\n",
    "    kmeans = KMeans(n_clusters=k, random_state=0).fit(coefs)\n",
    "    \n",
    "    # Get labels\n",
    "    labels = kmeans.labels_\n",
    "    \n",
    "    # Reconstruct image\n",
    "    count, loc, n = 0, 0, gt_flat.shape[0]\n",
    "    final = np.zeros(n)\n",
    "    while count<labels.shape[0]:\n",
    "        if (gt_flat[loc]!=0):\n",
    "            final[loc]=labels[count]+1\n",
    "            count+=1\n",
    "        loc+=1\n",
    "        \n",
    "    return np.reshape(final, original_shape)"
   ]
  },
  {
   "cell_type": "code",
   "execution_count": 11,
   "metadata": {},
   "outputs": [
    {
     "name": "stdout",
     "output_type": "stream",
     "text": [
      "Computing sparse coefficients:\n",
      "[5348] 100.0%\n"
     ]
    },
    {
     "data": {
      "image/png": "[encoded data removed]",
      "text/plain": [
       "<Figure size 432x288 with 1 Axes>"
      ]
     },
     "metadata": {
      "needs_background": "light"
     },
     "output_type": "display_data"
    }
   ],
   "source": [
    "sparsity = []\n",
    "atoms = [220, 306, 408, 1000]"
   ]
  },
  {
   "cell_type": "code",
   "execution_count": null,
   "metadata": {},
   "outputs": [],
   "source": []
  }
 ],
 "metadata": {
  "kernelspec": {
   "display_name": "Python 3",
   "language": "python",
   "name": "python3"
  },
  "language_info": {
   "codemirror_mode": {
    "name": "ipython",
    "version": 3
   },
   "file_extension": ".py",
   "mimetype": "text/x-python",
   "name": "python",
   "nbconvert_exporter": "python",
   "pygments_lexer": "ipython3",
   "version": "3.7.3"
  }
 },
 "nbformat": 4,
 "nbformat_minor": 2
}
