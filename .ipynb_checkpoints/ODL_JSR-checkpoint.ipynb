{
 "cells": [
  {
   "cell_type": "markdown",
   "metadata": {},
   "source": [
    "# Easy to train different dictionaries on different hyperspectral images"
   ]
  },
  {
   "cell_type": "code",
   "execution_count": 1,
   "metadata": {},
   "outputs": [],
   "source": [
    "import scipy.io as spio\n",
    "import numpy as np\n",
    "import random\n",
    "import spams\n",
    "from scipy import sparse\n",
    "import matplotlib.pyplot as plt"
   ]
  },
  {
   "cell_type": "code",
   "execution_count": 2,
   "metadata": {},
   "outputs": [],
   "source": [
    "IP_data_mat=spio.loadmat(\"data/IP/Indian_pines_corrected.mat\")\n",
    "IP_gt_mat=spio.loadmat(\"data/IP/Indian_pines_gt.mat\")\n",
    "IP_image=IP_data_mat[\"indian_pines_corrected\"]\n",
    "IP_gt=IP_gt_mat['indian_pines_gt']\n",
    "\n",
    "salinas_mat = spio.loadmat('data/Salinas/salinas.mat')\n",
    "salinas_gt_mat = spio.loadmat('data/Salinas/salinas_gt.mat')\n",
    "salinas_image = salinas_mat['salinasA_corrected']\n",
    "salinas_gt = salinas_gt_mat['salinasA_gt']\n",
    "\n",
    "pavia_mat = spio.loadmat('data/PaviaU/PaviaU.mat')\n",
    "pavia_gt_mat = spio.loadmat('data/PaviaU/PaviaU_gt.mat')\n",
    "pavia_image = pavia_mat['paviaU']\n",
    "pavia_gt = pavia_gt_mat['paviaU_gt']"
   ]
  },
  {
   "cell_type": "code",
   "execution_count": 3,
   "metadata": {},
   "outputs": [],
   "source": [
    "def progress(curr_it, max_it):\n",
    "    if (curr_it) < max_it:\n",
    "        print('[{0}] {1}%'.format((curr_it+1), np.round(((curr_it+1)/max_it)*100,2)), end='\\r')\n",
    "    else:\n",
    "        print('[{0}] {1}%'.format((curr_it+1), np.round(((curr_it+1)/max_it)*100,2)), end='\\n')\n",
    "        \n",
    "# Dictionary update step from ODL, taken from J Mairal \"Online Dictionary Learning for Sparse Coding\"\n",
    "def updateDict(D, A, B):\n",
    "    D = D.copy()\n",
    "    DA  = D.dot(A)\n",
    "    count = 0\n",
    "    for j in range(D.shape[1]):\n",
    "        u_j = (B[:, j] - np.matmul(D, A[:, j]))/A[j, j] + D[:, j]\n",
    "        D[:, j] = u_j/max([1, np.linalg.norm(u_j)])\n",
    "    return D\n",
    "\n",
    "class Joint_ODL:\n",
    "    'Provide hyperspectral image and perform dictionary learning on it in a joint fashion'\n",
    "    def drawRand(self):\n",
    "        rand = random.randint(0,self.tiled.shape[0]-1)\n",
    "        return self.tiled[:,rand]\n",
    "    def initD(self):\n",
    "        self.atoms = np.zeros((self.tiled.shape[0], self.num_coms))\n",
    "        for i in range(self.num_coms):\n",
    "            self.atoms[:,i]=self.drawRand()\n",
    "    def normaliseD(self):\n",
    "        D = self.atoms.copy()\n",
    "        self.atoms = np.asfortranarray(D / np.tile(np.sqrt((D*D).sum(axis=0)),(D.shape[0],1)),dtype=np.double)\n",
    "    def tile(self):\n",
    "        hsi = self.image.copy()\n",
    "        ts = self.tileDim\n",
    "        tiles = np.array([hsi[i:i+ts, j:j+ts]for j in range(0, hsi.shape[1], ts) for i in range(0, hsi.shape[0], ts)])\n",
    "        tiles = np.reshape(tiles, (tiles.shape[0], ts*ts, tiles.shape[3]))\n",
    "        tiles = np.reshape(tiles, (tiles.shape[0]*tiles.shape[1], tiles.shape[2]))\n",
    "        return np.asfortranarray(tiles.T, dtype=np.double)\n",
    "    def __init__(self, k, image, tilesize=10):\n",
    "        if k <= image.shape[2]:\n",
    "            print('Select an adequate number of components for %s.' %str(image.shape))\n",
    "            return\n",
    "        else:\n",
    "            self.num_coms = k\n",
    "        self.image = image\n",
    "        self.tileDim = tilesize\n",
    "        self.tiled = self.tile()\n",
    "        self.ind_groups=np.array(np.arange(0,self.tiled.shape[1],tilesize*tilesize), dtype=np.int32)\n",
    "        self.atoms = None\n",
    "        self.coefs = None\n",
    "        self.initD()\n",
    "        self.normaliseD()\n",
    "    def get_coefs(self):\n",
    "        print(self.ind_groups)\n",
    "        self.coefs = spams.somp(self.tiled[:,:], self.atoms, self.ind_groups, L=self.L, eps=self.eps, numThreads=self.numThreads)\n",
    "        return self.coefs\n",
    "    def fit(self, max_iter=1000, L=3, eps=0.1, numThreads=-1):\n",
    "        self.L = L\n",
    "        self.eps = eps\n",
    "        self.numThreads = numThreads\n",
    "        \n",
    "        A=np.zeros((self.num_coms, self.num_coms))\n",
    "        B=np.zeros((self.tiled.shape[0], self.num_coms))\n",
    "        for i in range(max_iter):\n",
    "            progress(i, max_iter)\n",
    "            random_index = random.choice(self.ind_groups).copy()\n",
    "            signals = self.tiled[:,random_index:(random_index+(self.tileDim**2))]\n",
    "            coefs = spams.somp(signals, self.atoms, self.ind_groups[:1], L=self.L, eps=self.eps, numThreads=self.numThreads)\n",
    "            for j in range(coefs.shape[1]):\n",
    "                signal = signals[:,j]\n",
    "                coef = sparse.coo_matrix(coefs[:,j])\n",
    "                alpha = coef.todense()\n",
    "                #alpha = coefs[:,j]\n",
    "                A += (alpha.dot(alpha.T))\n",
    "                B += (signal[:, None]*alpha[:].T)\n",
    "                self.atoms = updateDict(self.atoms, A, B)\n",
    "                self.atoms = np.asfortranarray(self.atoms)"
   ]
  },
  {
   "cell_type": "code",
   "execution_count": 4,
   "metadata": {
    "scrolled": false
   },
   "outputs": [
    {
     "name": "stdout",
     "output_type": "stream",
     "text": [
      "[1] 100.0%\r",
      "(400, 400)\n",
      "(400, 400)\n",
      "(400, 400)\n",
      "(400, 400)\n",
      "(400, 400)\n",
      "(400, 400)\n",
      "(400, 400)\n",
      "(400, 400)\n",
      "(400, 400)\n",
      "(400, 400)\n",
      "(400, 400)\n",
      "(400, 400)\n",
      "(400, 400)\n",
      "(400, 400)\n",
      "(400, 400)\n"
     ]
    },
    {
     "name": "stderr",
     "output_type": "stream",
     "text": [
      "/home/joshua/anaconda3/lib/python3.7/site-packages/ipykernel_launcher.py:13: RuntimeWarning: invalid value encountered in true_divide\n",
      "  del sys.path[0]\n"
     ]
    },
    {
     "name": "stdout",
     "output_type": "stream",
     "text": [
      "(400, 400)\n",
      "(400, 400)\n",
      "(400, 400)\n",
      "(400, 400)\n",
      "(400, 400)\n",
      "(400, 400)\n",
      "(400, 400)\n",
      "(400, 400)\n",
      "(400, 400)\n",
      "(400, 400)\n",
      "(400, 400)\n",
      "(400, 400)\n",
      "(400, 400)\n",
      "(400, 400)\n",
      "(400, 400)\n",
      "(400, 400)\n",
      "(400, 400)\n",
      "(400, 400)\n",
      "(400, 400)\n",
      "(400, 400)\n",
      "(400, 400)\n",
      "(400, 400)\n",
      "(400, 400)\n",
      "(400, 400)\n",
      "(400, 400)\n",
      "(400, 400)\n",
      "(400, 400)\n",
      "(400, 400)\n",
      "(400, 400)\n",
      "(400, 400)\n",
      "(400, 400)\n",
      "(400, 400)\n",
      "(400, 400)\n",
      "(400, 400)\n",
      "(400, 400)\n",
      "(400, 400)\n",
      "(400, 400)\n",
      "(400, 400)\n",
      "(400, 400)\n",
      "(400, 400)\n",
      "(400, 400)\n",
      "(400, 400)\n",
      "(400, 400)\n",
      "(400, 400)\n",
      "(400, 400)\n",
      "(400, 400)\n",
      "(400, 400)\n",
      "(400, 400)\n",
      "(400, 400)\n",
      "(400, 400)\n",
      "(400, 400)\n",
      "(400, 400)\n",
      "(400, 400)\n",
      "(400, 400)\n",
      "(400, 400)\n",
      "(400, 400)\n",
      "(400, 400)\n",
      "(400, 400)\n",
      "(400, 400)\n",
      "(400, 400)\n",
      "(400, 400)\n",
      "(400, 400)\n",
      "(400, 400)\n",
      "(400, 400)\n",
      "(400, 400)\n",
      "(400, 400)\n",
      "(400, 400)\n",
      "(400, 400)\n",
      "(400, 400)\n",
      "(400, 400)\n",
      "(400, 400)\n",
      "(400, 400)\n",
      "(400, 400)\n",
      "(400, 400)\n",
      "(400, 400)\n",
      "(400, 400)\n",
      "(400, 400)\n",
      "(400, 400)\n",
      "(400, 400)\n",
      "(400, 400)\n",
      "(400, 400)\n",
      "(400, 400)\n",
      "(400, 400)\n",
      "(400, 400)\n",
      "(400, 400)\n"
     ]
    }
   ],
   "source": [
    "pavia_jsrD = Joint_ODL(400, pavia_image, tilesize=10)\n",
    "IP_jsrD = Joint_ODL(330, IP_image, tilesize=5)\n",
    "pavia_jsrD.fit(max_iter=1)"
   ]
  },
  {
   "cell_type": "code",
   "execution_count": 5,
   "metadata": {},
   "outputs": [
    {
     "name": "stdout",
     "output_type": "stream",
     "text": [
      "[[nan nan nan ... nan nan nan]\n",
      " [nan nan nan ... nan nan nan]\n",
      " [nan nan nan ... nan nan nan]\n",
      " ...\n",
      " [nan nan nan ... nan nan nan]\n",
      " [nan nan nan ... nan nan nan]\n",
      " [nan nan nan ... nan nan nan]]\n"
     ]
    }
   ],
   "source": [
    "pavia_dict = pavia_jsrD.atoms\n",
    "print(pavia_dict)"
   ]
  },
  {
   "cell_type": "code",
   "execution_count": 6,
   "metadata": {},
   "outputs": [
    {
     "name": "stdout",
     "output_type": "stream",
     "text": [
      "[     0    100    200 ... 207100 207200 207300]\n"
     ]
    }
   ],
   "source": [
    "pavia_coefs = pavia_jsrD.get_coefs()\n",
    "pavia_coefs = sparse.coo_matrix(pavia_coefs)\n",
    "pavia_coefs = pavia_coefs.todense()"
   ]
  },
  {
   "cell_type": "code",
   "execution_count": 7,
   "metadata": {},
   "outputs": [
    {
     "name": "stdout",
     "output_type": "stream",
     "text": [
      "(400, 207400)\n",
      "(103, 207400)\n"
     ]
    }
   ],
   "source": [
    "print(pavia_coefs.shape)\n",
    "pavia_pixels = np.reshape(pavia_image, (-1, 103)).T\n",
    "print(pavia_pixels.shape)"
   ]
  },
  {
   "cell_type": "code",
   "execution_count": 8,
   "metadata": {},
   "outputs": [
    {
     "name": "stdout",
     "output_type": "stream",
     "text": [
      "(103, 207400)\n"
     ]
    }
   ],
   "source": [
    "pavia_recon = np.dot(pavia_dict, pavia_coefs)\n",
    "print(pavia_recon.shape)"
   ]
  },
  {
   "cell_type": "code",
   "execution_count": 9,
   "metadata": {},
   "outputs": [
    {
     "data": {
      "image/png": "[encoded data removed]",
      "text/plain": [
       "<Figure size 432x288 with 1 Axes>"
      ]
     },
     "metadata": {
      "needs_background": "light"
     },
     "output_type": "display_data"
    }
   ],
   "source": [
    "plt.plot(pavia_recon[:,20], label='Reconstruction')\n",
    "plt.plot(pavia_pixels[:,20], label='Original')\n",
    "plt.legend()\n",
    "plt.show()"
   ]
  },
  {
   "cell_type": "code",
   "execution_count": null,
   "metadata": {},
   "outputs": [],
   "source": []
  }
 ],
 "metadata": {
  "kernelspec": {
   "display_name": "Python 3",
   "language": "python",
   "name": "python3"
  },
  "language_info": {
   "codemirror_mode": {
    "name": "ipython",
    "version": 3
   },
   "file_extension": ".py",
   "mimetype": "text/x-python",
   "name": "python",
   "nbconvert_exporter": "python",
   "pygments_lexer": "ipython3",
   "version": "3.7.1"
  }
 },
 "nbformat": 4,
 "nbformat_minor": 2
}
