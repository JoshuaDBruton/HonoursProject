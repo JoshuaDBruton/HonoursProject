{
 "cells": [
  {
   "cell_type": "markdown",
   "metadata": {},
   "source": [
    "# Imports"
   ]
  },
  {
   "cell_type": "code",
   "execution_count": 1,
   "metadata": {},
   "outputs": [],
   "source": [
    "import scipy.io as spio\n",
    "import matplotlib.pyplot as plt\n",
    "import numpy as np\n",
    "import random\n",
    "import spams\n",
    "from scipy import sparse"
   ]
  },
  {
   "cell_type": "markdown",
   "metadata": {},
   "source": [
    "# Read-in HSI"
   ]
  },
  {
   "cell_type": "code",
   "execution_count": 2,
   "metadata": {},
   "outputs": [],
   "source": [
    "#pavia_mat = spio.loadmat('data/PaviaU/PaviaU.mat')\n",
    "#pavia_gt_mat = spio.loadmat('data/PaviaU/PaviaU_gt.mat')\n",
    "#pavia_image = pavia_mat['paviaU']\n",
    "#pavia_gt = pavia_gt_mat['paviaU_gt']\n",
    "\n",
    "IP_data_mat=spio.loadmat(\"data/IP/Indian_pines_corrected.mat\")\n",
    "IP_gt_mat=spio.loadmat(\"data/IP/Indian_pines_gt.mat\")\n",
    "IP_image=IP_data_mat[\"indian_pines_corrected\"]\n",
    "IP_gt=IP_gt_mat['indian_pines_gt']"
   ]
  },
  {
   "cell_type": "markdown",
   "metadata": {},
   "source": [
    "# JSR Dictionary Learning"
   ]
  },
  {
   "cell_type": "code",
   "execution_count": 3,
   "metadata": {},
   "outputs": [],
   "source": [
    "def progress(curr_it, max_it):\n",
    "    if (curr_it) < max_it:\n",
    "        print('[{0}] {1}%'.format((curr_it+1), np.round(((curr_it+1)/max_it)*100,2)), end='\\r')\n",
    "    else:\n",
    "        print('[{0}] {1}%'.format((curr_it+1), np.round(((curr_it+1)/max_it)*100,2)), end='\\n')\n",
    "\n",
    "# Dictionary update step from ODL, taken from J Mairal \"Online Dictionary Learning for Sparse Coding\"\n",
    "def updateDict(D, A, B):\n",
    "    D = D.copy()\n",
    "    DA  = D.dot(A)\n",
    "    count = 0\n",
    "    for j in range(D.shape[1]):\n",
    "        u_j = (B[:, j] - np.matmul(D, A[:, j]))/A[j, j] + D[:, j]\n",
    "        D[:, j] = u_j/max([1, np.linalg.norm(u_j)])\n",
    "    D = np.array(D, dtype=np.double)\n",
    "    return D\n",
    "\n",
    "class Jsr_odl:\n",
    "    def drawRand(self):\n",
    "        rand = random.randint(0,self.tiles.shape[0]-1)\n",
    "        return self.tiles[:,rand]\n",
    "    def normaliseD(self):\n",
    "        D = self.atoms.copy()\n",
    "        self.atoms = np.asfortranarray(D / np.tile(np.sqrt((D*D).sum(axis=0)),(D.shape[0],1)),dtype=np.double)\n",
    "    def tile(self):\n",
    "        hsi = self.image.copy()\n",
    "        ts = self.ts\n",
    "        tiles = np.array([hsi[i:i+ts, j:j+ts]for j in range(0, hsi.shape[1], ts) for i in range(0, hsi.shape[0], ts)])\n",
    "        tiles = np.reshape(tiles, (tiles.shape[0], ts*ts, tiles.shape[3]))\n",
    "        tiles = np.reshape(tiles, (tiles.shape[0]*tiles.shape[1], tiles.shape[2]))\n",
    "        tiles=np.array(tiles, dtype=np.double)\n",
    "        tiles/=np.linalg.norm(tiles, axis=1, keepdims=True)\n",
    "        return np.asfortranarray(tiles.T, dtype=np.double)\n",
    "    def initD(self):\n",
    "        self.atoms = np.zeros((self.tiles.shape[0], self.num_coms))\n",
    "        for i in range(self.num_coms):\n",
    "            self.atoms[:,i]=self.drawRand()\n",
    "        self.atoms=np.asfortranarray(self.atoms, dtype=np.double)\n",
    "    def __init__(self, image, k=100, tilesize=10):\n",
    "        if k <= image.shape[2]:\n",
    "            print('Select an adequate number of components for %s.' %str(image.shape))\n",
    "            return\n",
    "        else:\n",
    "            self.num_coms = k\n",
    "        self.image = image\n",
    "        self.ts = tilesize\n",
    "        self.tiles=self.tile()\n",
    "        assert np.allclose(np.linalg.norm(self.tiles, axis=0), 1.)\n",
    "        self.atoms=None\n",
    "        self.coefs=None\n",
    "        self.initD()\n",
    "        assert np.allclose(np.linalg.norm(self.atoms, axis=0), 1.)\n",
    "        self.ind_groups=np.array(np.arange(0,self.tiles.shape[1],self.ts*self.ts), dtype=np.int32)\n",
    "    def get_coefs(self):\n",
    "        self.coefs = spams.somp(self.tiles[:,:], self.atoms, self.ind_groups, L=self.L, eps=self.eps, numThreads=self.num_threads)\n",
    "        return self.coefs\n",
    "    def fit(self, max_iter=1000, L=3, eps=0.1, numThreads=-1):\n",
    "        self.max_iter=max_iter\n",
    "        self.L=L\n",
    "        self.eps=eps\n",
    "        self.num_threads=numThreads\n",
    "        A=np.zeros((self.num_coms, self.num_coms))\n",
    "        B=np.zeros((self.tiles.shape[0], self.num_coms))\n",
    "        \n",
    "        for i in range(self.max_iter):\n",
    "            progress(i, self.max_iter)\n",
    "            random_index = random.choice(self.ind_groups)\n",
    "            signals = self.tiles[:,random_index:(random_index+(self.ts**2))]\n",
    "            alphas = spams.somp(signals, self.atoms, self.ind_groups[:1], L=self.L, eps=self.eps, numThreads=self.num_threads)\n",
    "            alphas = sparse.coo_matrix(alphas)\n",
    "            alphas = alphas.todense()\n",
    "            for j in range(alphas.shape[1]):\n",
    "                alpha=alphas[:, j]\n",
    "                signal=signals[:,j]\n",
    "                A += (alpha.T.dot(alpha))\n",
    "                B += (signal[:, None]*alpha[:].T)\n",
    "                self.atoms = updateDict(self.atoms, A, B)\n",
    "                self.atoms = np.asfortranarray(self.atoms)\n",
    "                self.normaliseD()"
   ]
  },
  {
   "cell_type": "markdown",
   "metadata": {},
   "source": [
    "# Testing"
   ]
  },
  {
   "cell_type": "code",
   "execution_count": 4,
   "metadata": {},
   "outputs": [
    {
     "name": "stdout",
     "output_type": "stream",
     "text": [
      "[10] 100.0%\r"
     ]
    }
   ],
   "source": [
    "pavia_d = Jsr_odl(image=IP_image, k=600, tilesize=5)\n",
    "pavia_d.fit(max_iter=10, L=5, eps=0.01, numThreads=-1)"
   ]
  },
  {
   "cell_type": "markdown",
   "metadata": {},
   "source": [
    "# Visualisation"
   ]
  },
  {
   "cell_type": "code",
   "execution_count": 5,
   "metadata": {},
   "outputs": [
    {
     "name": "stdout",
     "output_type": "stream",
     "text": [
      "[[-0.01378975 -0.06355292 -0.06766479 ...  0.06983146  0.0611812\n",
      "   0.06846936]\n",
      " [-0.08197152 -0.09254002 -0.087488   ...  0.0882972   0.09261286\n",
      "   0.10616237]\n",
      " [-0.05461791 -0.09393539 -0.09159697 ...  0.08975889  0.09580486\n",
      "   0.11234643]\n",
      " ...\n",
      " [-0.02022408 -0.02393566 -0.02308026 ...  0.02281631  0.02285563\n",
      "   0.02552414]\n",
      " [-0.02136552 -0.02384826 -0.02296476 ...  0.0226359   0.02242883\n",
      "   0.02545438]\n",
      " [-0.02039388 -0.02363031 -0.0228706  ...  0.02274331  0.02222711\n",
      "   0.02497872]]\n",
      "(145, 145, 200)\n"
     ]
    }
   ],
   "source": [
    "pavia_dict=pavia_d.atoms\n",
    "print(pavia_dict)\n",
    "print(IP_image.shape)"
   ]
  },
  {
   "cell_type": "code",
   "execution_count": 8,
   "metadata": {},
   "outputs": [
    {
     "data": {
      "image/png": "[encoded data removed]",
      "text/plain": [
       "<Figure size 432x288 with 1 Axes>"
      ]
     },
     "metadata": {
      "needs_background": "light"
     },
     "output_type": "display_data"
    }
   ],
   "source": [
    "pavia_pixels = np.array(np.reshape(IP_image, (-1, 200)).T, dtype=np.double)\n",
    "pavia_pixels/=np.linalg.norm(pavia_pixels, axis=0, keepdims=True)\n",
    "\n",
    "pavia_coefs = pavia_d.get_coefs()\n",
    "pavia_coefs = sparse.coo_matrix(pavia_coefs)\n",
    "pavia_coefs = pavia_coefs.todense()\n",
    "\n",
    "pavia_recon = np.dot(pavia_dict, pavia_coefs)\n",
    "\n",
    "plt.plot(pavia_recon[:,1000], label='Reconstruction')\n",
    "plt.plot(pavia_pixels[:,1000], label='Original')\n",
    "plt.legend()\n",
    "plt.show()"
   ]
  },
  {
   "cell_type": "markdown",
   "metadata": {},
   "source": [
    "# Fix"
   ]
  },
  {
   "cell_type": "code",
   "execution_count": 7,
   "metadata": {},
   "outputs": [],
   "source": [
    "np.save('results/Dictionaries/IP_dictionary_k600_t1000_L5_eps001_tile5_JSR.npy', pavia_dict)"
   ]
  },
  {
   "cell_type": "code",
   "execution_count": null,
   "metadata": {},
   "outputs": [],
   "source": []
  }
 ],
 "metadata": {
  "kernelspec": {
   "display_name": "Python 3",
   "language": "python",
   "name": "python3"
  },
  "language_info": {
   "codemirror_mode": {
    "name": "ipython",
    "version": 3
   },
   "file_extension": ".py",
   "mimetype": "text/x-python",
   "name": "python",
   "nbconvert_exporter": "python",
   "pygments_lexer": "ipython3",
   "version": "3.7.3"
  }
 },
 "nbformat": 4,
 "nbformat_minor": 2
}
