{
 "cells": [
  {
   "cell_type": "code",
   "execution_count": 65,
   "metadata": {},
   "outputs": [],
   "source": [
    "import cv2 as cv\n",
    "import numpy as np\n",
    "import matplotlib.pyplot as plt\n",
    "from scipy.stats import norm, multivariate_normal\n",
    "import scipy.io as spio\n",
    "from sklearn.decomposition import PCA\n",
    "from sklearn.metrics import adjusted_rand_score, adjusted_mutual_info_score"
   ]
  },
  {
   "cell_type": "markdown",
   "metadata": {},
   "source": [
    "## Read-in, visualise, convert, flatten and concatenate data"
   ]
  },
  {
   "cell_type": "code",
   "execution_count": 49,
   "metadata": {},
   "outputs": [],
   "source": [
    "IP_data_mat=spio.loadmat(\"data/IP/Indian_pines_corrected.mat\")\n",
    "IP_gt_mat=spio.loadmat(\"data/IP/Indian_pines_gt.mat\")\n",
    "IP_image=IP_data_mat[\"indian_pines_corrected\"]\n",
    "IP_gt=IP_gt_mat['indian_pines_gt']\n",
    "\n",
    "pavia_mat = spio.loadmat('data/PaviaU/PaviaU.mat')\n",
    "pavia_gt_mat = spio.loadmat('data/PaviaU/PaviaU_gt.mat')\n",
    "pavia_image = pavia_mat['paviaU']\n",
    "pavia_gt = pavia_gt_mat['paviaU_gt']\n",
    "\n",
    "salinas_mat = spio.loadmat('data/Salinas/salinas.mat')\n",
    "salinas_gt_mat = spio.loadmat('data/Salinas/salinas_gt.mat')\n",
    "salinas_image = salinas_mat['salinasA_corrected']\n",
    "salinas_gt = salinas_gt_mat['salinasA_gt']\n",
    "\n",
    "n, m, c = salinas_image.shape\n",
    "salinas_image = np.reshape(salinas_image, (-1, c))\n",
    "salinas_gt_flat = np.reshape(salinas_gt, -1)\n",
    "salinas_image = salinas_image[salinas_gt_flat!=0]\n",
    "\n",
    "# PCA\n",
    "n_features = 5\n",
    "pca = PCA(n_components=n_features)\n",
    "pCs_salinas = pca.fit_transform(salinas_image)"
   ]
  },
  {
   "cell_type": "code",
   "execution_count": 50,
   "metadata": {},
   "outputs": [],
   "source": [
    "class GMM:\n",
    "    \"\"\"\n",
    "    Class implementing a Gaussian Mixture Model (GMM) with multivariate gaussians\n",
    "        Requires: potential_features (data), n_coms (number of clusters), em_steps(number of iterations of EM) and\n",
    "        n_features (the number of features to extract from potential_features)\n",
    "        \n",
    "        Contains: \n",
    "            GMM.run(), run EM with parameters specified at initialisation, will create appropriate plots\n",
    "    \"\"\"\n",
    "    def __init__(self, potential_features, n_coms=2, em_steps=10, n_features=2):\n",
    "        # Select desired features\n",
    "        self.X = potential_features[:, :n_features]\n",
    "        # Number of steps em will run for\n",
    "        self.em_steps = em_steps\n",
    "        # Number of components/clusters\n",
    "        self.n_coms = n_coms\n",
    "        self.mu = None\n",
    "        self.pi = None\n",
    "        self.cov = None\n",
    "        self.XY = None\n",
    "        self.n_features=n_features\n",
    "    def run(self):\n",
    "        # Regulariser for the covariance matrix\n",
    "        self.reg_cov = 1e-4*np.identity(len(self.X[0]))\n",
    "        \n",
    "        #x,y = np.meshgrid(np.sort(self.X[:,0]),np.sort(self.X[:,1]))\n",
    "        #self.XY = np.array([x.flatten(),y.flatten()]).T\n",
    "        \n",
    "        # Initialise mean value size (Number of components, number of features) and make float\n",
    "        chosen = np.random.choice(len(self.X), self.n_coms, replace = False)\n",
    "        self.mu = self.X[chosen]*1.0\n",
    "        \n",
    "        # Initialise zero matrices of size (number of components, number of features, number of features)\n",
    "        shape = self.n_coms, len(self.X[0]), len(self.X[0])\n",
    "        self.cov = np.full(shape, np.cov(self.X, rowvar = False))\n",
    "        #self.cov = np.sqrt(self.cov) THIS WAS BREAKING THE COIN PIXELS\n",
    "        self.cov += self.reg_cov\n",
    "        \n",
    "        initial_mu = self.mu.copy()\n",
    "        initial_cov = self.cov.copy()\n",
    "        \n",
    "        # Initialise uniform pi values\n",
    "        self.pi = np.full(self.n_coms, 1/self.n_coms)\n",
    "        \n",
    "        log_likelihoods = []\n",
    "        \n",
    "        # EM Loop\n",
    "        i=0\n",
    "        while True:\n",
    "            # E Step\n",
    "            #print(\"EM step %d/%d.\"%(i+1, self.em_steps), end='\\r')\n",
    "            \n",
    "            # Compute responsibilities\n",
    "            r_ic = np.zeros((len(self.X), self.n_coms))\n",
    "            for c in range(self.n_coms):\n",
    "                prior = self.pi[c]\n",
    "                #print(self.mu[c], self.cov[c])\n",
    "                likelihood = multivariate_normal(self.mu[c], self.cov[c]).pdf(self.X)\n",
    "                r_ic[:, c] = prior * likelihood\n",
    "            r_ic = r_ic/(r_ic.sum(axis = 1, keepdims = 1)+1e-9)\n",
    "        \n",
    "            # M Step\n",
    "            \n",
    "            self.pi = []\n",
    "            self.mu = []\n",
    "            self.cov = []\n",
    "            \n",
    "            for c in range(self.n_coms):\n",
    "                # Update mean of each component\n",
    "                m_c = np.sum(r_ic[:, c], axis=0)\n",
    "                mu_c = (1/m_c)*np.sum(self.X*r_ic[:,c].reshape(len(self.X), 1), axis=0)\n",
    "                self.mu.append(mu_c)\n",
    "                \n",
    "                # Update covariance matrix of each component\n",
    "                cov_c = (1/m_c)*np.dot((np.array(r_ic[:,c]).reshape(len(self.X),1)*(self.X-mu_c)).T,(self.X-mu_c))\n",
    "                cov_c += self.reg_cov\n",
    "                self.cov.append(cov_c)\n",
    "                \n",
    "                # Update pi values of each component\n",
    "                self.pi.append(m_c/np.sum(r_ic))\n",
    "            \n",
    "            self.mu = np.array(self.mu)\n",
    "            self.cov = np.array(self.cov)\n",
    "            # Save log likelihood of each iteration\n",
    "            log_likelihoods.append(np.log(np.sum([k*multivariate_normal(self.mu[i],self.cov[j]).pdf(self.X) for k,i,j in zip(self.pi,range(len(self.mu)),range(len(self.cov)))])))\n",
    "            i+=1\n",
    "            print(np.round(log_likelihoods[i-1], 2), i, end='\\r')\n",
    "            if i>1:\n",
    "                if np.abs(log_likelihoods[i-2]-log_likelihoods[i-1])<1e-4:\n",
    "                    break\n",
    "\n",
    "        print('Training complete')\n",
    "        plt.plot(range(0, i, 1),log_likelihoods)\n",
    "        plt.xlabel('Iterative steps')\n",
    "        plt.ylabel('Log-likelihood')\n",
    "        plt.savefig('log_likelihood_graph.png')\n",
    "        plt.show()"
   ]
  },
  {
   "cell_type": "code",
   "execution_count": 60,
   "metadata": {},
   "outputs": [
    {
     "name": "stdout",
     "output_type": "stream",
     "text": [
      "Training complete\n"
     ]
    },
    {
     "data": {
      "image/png": "[encoded data removed]",
      "text/plain": [
       "<Figure size 432x288 with 1 Axes>"
      ]
     },
     "metadata": {
      "needs_background": "light"
     },
     "output_type": "display_data"
    }
   ],
   "source": [
    "gmm_salinas = GMM(potential_features=pCs_salinas, n_coms=6, em_steps=50, n_features=2)\n",
    "gmm_salinas.run()"
   ]
  },
  {
   "cell_type": "code",
   "execution_count": 61,
   "metadata": {},
   "outputs": [],
   "source": [
    "def predict(Y, gmm):\n",
    "    Y = Y[:, :gmm.n_features]\n",
    "    labels = np.zeros((Y.shape[0], gmm.n_coms))\n",
    "    for c in range(gmm.n_coms):\n",
    "        labels [:,c] = gmm.pi[c] * multivariate_normal(gmm.mu[c,:], gmm.cov[c]).pdf(Y)\n",
    "    labels  = labels.argmax(1)\n",
    "    return labels\n",
    "    \n",
    "\n",
    "def compute_confusion_matrix(true, pred):\n",
    "    K = len(np.unique(true))\n",
    "    print(np.unique(true))\n",
    "    result = np.zeros((K, K))\n",
    "\n",
    "    for i in range(len(true)):\n",
    "        result[true[i]][pred[i]] += 1\n",
    "\n",
    "    return result"
   ]
  },
  {
   "cell_type": "code",
   "execution_count": 62,
   "metadata": {},
   "outputs": [
    {
     "data": {
      "image/png": "[encoded data removed]",
      "text/plain": [
       "<Figure size 720x720 with 2 Axes>"
      ]
     },
     "metadata": {
      "needs_background": "light"
     },
     "output_type": "display_data"
    }
   ],
   "source": [
    "labels = predict(pCs_salinas, gmm_salinas)\n",
    "\n",
    "count, loc, size = 0, 0, salinas_gt_flat.shape[0]\n",
    "final = np.zeros(size)\n",
    "while count<labels.shape[0]:\n",
    "    if (salinas_gt_flat[loc]!=0):\n",
    "        final[loc]=labels[count]+1\n",
    "        count+=1\n",
    "    loc+=1\n",
    "\n",
    "final = np.reshape(final, (n, m))\n",
    "\n",
    "f, ax = plt.subplots(1, 2, figsize=(10, 10))\n",
    "ax[0].imshow(salinas_gt)\n",
    "ax[1].imshow(final)\n",
    "plt.show()"
   ]
  },
  {
   "cell_type": "code",
   "execution_count": 66,
   "metadata": {},
   "outputs": [
    {
     "name": "stderr",
     "output_type": "stream",
     "text": [
      "/home/joshua/anaconda3/lib/python3.7/site-packages/sklearn/metrics/cluster/supervised.py:732: FutureWarning: The behavior of AMI will change in version 0.22. To match the behavior of 'v_measure_score', AMI will use average_method='arithmetic' by default.\n",
      "  FutureWarning)\n"
     ]
    },
    {
     "name": "stdout",
     "output_type": "stream",
     "text": [
      "0.8530955317687071\n"
     ]
    }
   ],
   "source": [
    "def randIndex(gt_labels, pred_labels):\n",
    "    return adjusted_mutual_info_score(np.reshape(gt_labels, -1), np.reshape(pred_labels, -1), average_method='warn')\n",
    "\n",
    "print(randIndex(salinas_gt, final))"
   ]
  },
  {
   "cell_type": "code",
   "execution_count": null,
   "metadata": {},
   "outputs": [],
   "source": []
  }
 ],
 "metadata": {
  "kernelspec": {
   "display_name": "Python 3",
   "language": "python",
   "name": "python3"
  },
  "language_info": {
   "codemirror_mode": {
    "name": "ipython",
    "version": 3
   },
   "file_extension": ".py",
   "mimetype": "text/x-python",
   "name": "python",
   "nbconvert_exporter": "python",
   "pygments_lexer": "ipython3",
   "version": "3.7.3"
  }
 },
 "nbformat": 4,
 "nbformat_minor": 2
}
