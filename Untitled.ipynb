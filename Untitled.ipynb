{
 "cells": [
  {
   "cell_type": "code",
   "execution_count": 1,
   "metadata": {},
   "outputs": [],
   "source": [
    "import scipy.io as spio\n",
    "import matplotlib.pyplot as plt\n",
    "import numpy as np\n",
    "import random\n",
    "from scipy import sparse\n",
    "from sklearn.cluster import KMeans\n",
    "import online_dictionary_learning.omp as omp"
   ]
  },
  {
   "cell_type": "code",
   "execution_count": 3,
   "metadata": {},
   "outputs": [],
   "source": [
    "salinas_mat = spio.loadmat('data/Salinas/salinas.mat')\n",
    "salinas_gt_mat = spio.loadmat('data/Salinas/salinas_gt.mat')\n",
    "salinas_image = salinas_mat['salinasA_corrected']\n",
    "salinas_gt = salinas_gt_mat['salinasA_gt']"
   ]
  },
  {
   "cell_type": "code",
   "execution_count": 30,
   "metadata": {},
   "outputs": [],
   "source": [
    "def kmeans(image, gt):\n",
    "    n, m, c = image.shape\n",
    "    \n",
    "    image_flat = np.reshape(image, (n*m, c))\n",
    "    gt_flat = np.reshape(gt, -1)\n",
    "    \n",
    "    image_flat = image_flat[gt_flat!=0]\n",
    "    \n",
    "    k = np.unique(gt_flat).shape[0]-1\n",
    "    \n",
    "    kmeans = KMeans(n_clusters=k, random_state=0).fit(image_flat)\n",
    "    \n",
    "    labels = kmeans.labels_\n",
    "    \n",
    "    final = np.zeros(n*m)\n",
    "    \n",
    "    count, loc = 0, 0\n",
    "    while count < labels.shape[0]:\n",
    "        if gt_flat[loc]!=0:\n",
    "            final[loc]=labels[count]+1\n",
    "            count+=1\n",
    "        loc+=1\n",
    "    \n",
    "    return np.reshape(final, (n, m))"
   ]
  },
  {
   "cell_type": "code",
   "execution_count": 37,
   "metadata": {},
   "outputs": [
    {
     "data": {
      "image/png": "[encoded data removed]",
      "text/plain": [
       "<Figure size 432x288 with 2 Axes>"
      ]
     },
     "metadata": {
      "needs_background": "light"
     },
     "output_type": "display_data"
    }
   ],
   "source": [
    "labels = kmeans(salinas_image, salinas_gt)\n",
    "\n",
    "f, ax = plt.subplots(1, 2)\n",
    "ax[0].imshow(salinas_gt)\n",
    "ax[1].imshow(labels)\n",
    "\n",
    "for a in ax:\n",
    "    a.axis('off')\n",
    "\n",
    "plt.savefig('baseline.png')\n",
    "plt.show()"
   ]
  },
  {
   "cell_type": "code",
   "execution_count": null,
   "metadata": {},
   "outputs": [],
   "source": []
  }
 ],
 "metadata": {
  "kernelspec": {
   "display_name": "Python 3",
   "language": "python",
   "name": "python3"
  },
  "language_info": {
   "codemirror_mode": {
    "name": "ipython",
    "version": 3
   },
   "file_extension": ".py",
   "mimetype": "text/x-python",
   "name": "python",
   "nbconvert_exporter": "python",
   "pygments_lexer": "ipython3",
   "version": "3.7.3"
  }
 },
 "nbformat": 4,
 "nbformat_minor": 2
}
